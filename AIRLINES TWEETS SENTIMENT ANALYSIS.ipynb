{
 "cells": [
  {
   "cell_type": "code",
   "execution_count": 1,
   "metadata": {},
   "outputs": [],
   "source": [
    "import numpy as np \n",
    "import pandas as pd \n",
    "import re\n",
    "import nltk \n",
    "import matplotlib.pyplot as plt\n",
    "from nltk.corpus import stopwords\n",
    "from nltk.stem.porter import PorterStemmer\n",
    "from nltk.stem import WordNetLemmatizer\n",
    "from sklearn.tree import DecisionTreeClassifier\n",
    "from sklearn.ensemble import GradientBoostingClassifier\n",
    "from sklearn.ensemble import AdaBoostClassifier\n",
    "from sklearn.svm import SVC\n",
    "from xgboost import XGBClassifier\n",
    "from sklearn.naive_bayes import MultinomialNB"
   ]
  },
  {
   "cell_type": "code",
   "execution_count": 145,
   "metadata": {},
   "outputs": [
    {
     "name": "stderr",
     "output_type": "stream",
     "text": [
      "[nltk_data] Downloading package wordnet to\n",
      "[nltk_data]     C:\\Users\\djroc\\AppData\\Roaming\\nltk_data...\n",
      "[nltk_data]   Unzipping corpora\\wordnet.zip.\n"
     ]
    },
    {
     "data": {
      "text/plain": [
       "True"
      ]
     },
     "execution_count": 145,
     "metadata": {},
     "output_type": "execute_result"
    }
   ],
   "source": [
    "nltk.download('wordnet')"
   ]
  },
  {
   "cell_type": "code",
   "execution_count": 137,
   "metadata": {},
   "outputs": [
    {
     "name": "stderr",
     "output_type": "stream",
     "text": [
      "[nltk_data] Downloading package stopwords to\n",
      "[nltk_data]     C:\\Users\\djroc\\AppData\\Roaming\\nltk_data...\n",
      "[nltk_data]   Unzipping corpora\\stopwords.zip.\n"
     ]
    },
    {
     "data": {
      "text/plain": [
       "True"
      ]
     },
     "execution_count": 137,
     "metadata": {},
     "output_type": "execute_result"
    }
   ],
   "source": [
    "nltk.download('stopwords')"
   ]
  },
  {
   "cell_type": "code",
   "execution_count": 2,
   "metadata": {},
   "outputs": [],
   "source": [
    "df=pd.read_csv(\"C:/Users/djroc/OneDrive/Desktop/tweets.csv\")"
   ]
  },
  {
   "cell_type": "code",
   "execution_count": 3,
   "metadata": {},
   "outputs": [
    {
     "data": {
      "text/plain": [
       "(14640, 15)"
      ]
     },
     "execution_count": 3,
     "metadata": {},
     "output_type": "execute_result"
    }
   ],
   "source": [
    "df.shape"
   ]
  },
  {
   "cell_type": "code",
   "execution_count": 4,
   "metadata": {},
   "outputs": [
    {
     "data": {
      "text/html": [
       "<div>\n",
       "<style scoped>\n",
       "    .dataframe tbody tr th:only-of-type {\n",
       "        vertical-align: middle;\n",
       "    }\n",
       "\n",
       "    .dataframe tbody tr th {\n",
       "        vertical-align: top;\n",
       "    }\n",
       "\n",
       "    .dataframe thead th {\n",
       "        text-align: right;\n",
       "    }\n",
       "</style>\n",
       "<table border=\"1\" class=\"dataframe\">\n",
       "  <thead>\n",
       "    <tr style=\"text-align: right;\">\n",
       "      <th></th>\n",
       "      <th>tweet_id</th>\n",
       "      <th>airline_sentiment</th>\n",
       "      <th>airline_sentiment_confidence</th>\n",
       "      <th>negativereason</th>\n",
       "      <th>negativereason_confidence</th>\n",
       "      <th>airline</th>\n",
       "      <th>airline_sentiment_gold</th>\n",
       "      <th>name</th>\n",
       "      <th>negativereason_gold</th>\n",
       "      <th>retweet_count</th>\n",
       "      <th>text</th>\n",
       "      <th>tweet_coord</th>\n",
       "      <th>tweet_created</th>\n",
       "      <th>tweet_location</th>\n",
       "      <th>user_timezone</th>\n",
       "    </tr>\n",
       "  </thead>\n",
       "  <tbody>\n",
       "    <tr>\n",
       "      <th>0</th>\n",
       "      <td>5.703060e+17</td>\n",
       "      <td>neutral</td>\n",
       "      <td>1.0000</td>\n",
       "      <td>NaN</td>\n",
       "      <td>NaN</td>\n",
       "      <td>Virgin America</td>\n",
       "      <td>NaN</td>\n",
       "      <td>cairdin</td>\n",
       "      <td>NaN</td>\n",
       "      <td>0</td>\n",
       "      <td>@VirginAmerica What @dhepburn said.</td>\n",
       "      <td>NaN</td>\n",
       "      <td>11:35:52</td>\n",
       "      <td>NaN</td>\n",
       "      <td>Eastern Time (US &amp; Canada)</td>\n",
       "    </tr>\n",
       "    <tr>\n",
       "      <th>1</th>\n",
       "      <td>5.703010e+17</td>\n",
       "      <td>positive</td>\n",
       "      <td>0.3486</td>\n",
       "      <td>NaN</td>\n",
       "      <td>0.0000</td>\n",
       "      <td>Virgin America</td>\n",
       "      <td>NaN</td>\n",
       "      <td>jnardino</td>\n",
       "      <td>NaN</td>\n",
       "      <td>0</td>\n",
       "      <td>@VirginAmerica plus you've added commercials t...</td>\n",
       "      <td>NaN</td>\n",
       "      <td>11:15:59</td>\n",
       "      <td>NaN</td>\n",
       "      <td>Pacific Time (US &amp; Canada)</td>\n",
       "    </tr>\n",
       "    <tr>\n",
       "      <th>2</th>\n",
       "      <td>5.703010e+17</td>\n",
       "      <td>neutral</td>\n",
       "      <td>0.6837</td>\n",
       "      <td>NaN</td>\n",
       "      <td>NaN</td>\n",
       "      <td>Virgin America</td>\n",
       "      <td>NaN</td>\n",
       "      <td>yvonnalynn</td>\n",
       "      <td>NaN</td>\n",
       "      <td>0</td>\n",
       "      <td>@VirginAmerica I didn't today... Must mean I n...</td>\n",
       "      <td>NaN</td>\n",
       "      <td>11:15:48</td>\n",
       "      <td>Lets Play</td>\n",
       "      <td>Central Time (US &amp; Canada)</td>\n",
       "    </tr>\n",
       "    <tr>\n",
       "      <th>3</th>\n",
       "      <td>5.703010e+17</td>\n",
       "      <td>negative</td>\n",
       "      <td>1.0000</td>\n",
       "      <td>Bad Flight</td>\n",
       "      <td>0.7033</td>\n",
       "      <td>Virgin America</td>\n",
       "      <td>NaN</td>\n",
       "      <td>jnardino</td>\n",
       "      <td>NaN</td>\n",
       "      <td>0</td>\n",
       "      <td>@VirginAmerica it's really aggressive to blast...</td>\n",
       "      <td>NaN</td>\n",
       "      <td>11:15:36</td>\n",
       "      <td>NaN</td>\n",
       "      <td>Pacific Time (US &amp; Canada)</td>\n",
       "    </tr>\n",
       "    <tr>\n",
       "      <th>4</th>\n",
       "      <td>5.703010e+17</td>\n",
       "      <td>negative</td>\n",
       "      <td>1.0000</td>\n",
       "      <td>Can't Tell</td>\n",
       "      <td>1.0000</td>\n",
       "      <td>Virgin America</td>\n",
       "      <td>NaN</td>\n",
       "      <td>jnardino</td>\n",
       "      <td>NaN</td>\n",
       "      <td>0</td>\n",
       "      <td>@VirginAmerica and it's a really big bad thing...</td>\n",
       "      <td>NaN</td>\n",
       "      <td>11:14:45</td>\n",
       "      <td>NaN</td>\n",
       "      <td>Pacific Time (US &amp; Canada)</td>\n",
       "    </tr>\n",
       "  </tbody>\n",
       "</table>\n",
       "</div>"
      ],
      "text/plain": [
       "       tweet_id airline_sentiment  airline_sentiment_confidence  \\\n",
       "0  5.703060e+17           neutral                        1.0000   \n",
       "1  5.703010e+17          positive                        0.3486   \n",
       "2  5.703010e+17           neutral                        0.6837   \n",
       "3  5.703010e+17          negative                        1.0000   \n",
       "4  5.703010e+17          negative                        1.0000   \n",
       "\n",
       "  negativereason  negativereason_confidence         airline  \\\n",
       "0            NaN                        NaN  Virgin America   \n",
       "1            NaN                     0.0000  Virgin America   \n",
       "2            NaN                        NaN  Virgin America   \n",
       "3     Bad Flight                     0.7033  Virgin America   \n",
       "4     Can't Tell                     1.0000  Virgin America   \n",
       "\n",
       "  airline_sentiment_gold        name negativereason_gold  retweet_count  \\\n",
       "0                    NaN     cairdin                 NaN              0   \n",
       "1                    NaN    jnardino                 NaN              0   \n",
       "2                    NaN  yvonnalynn                 NaN              0   \n",
       "3                    NaN    jnardino                 NaN              0   \n",
       "4                    NaN    jnardino                 NaN              0   \n",
       "\n",
       "                                                text tweet_coord  \\\n",
       "0                @VirginAmerica What @dhepburn said.         NaN   \n",
       "1  @VirginAmerica plus you've added commercials t...         NaN   \n",
       "2  @VirginAmerica I didn't today... Must mean I n...         NaN   \n",
       "3  @VirginAmerica it's really aggressive to blast...         NaN   \n",
       "4  @VirginAmerica and it's a really big bad thing...         NaN   \n",
       "\n",
       "  tweet_created tweet_location               user_timezone  \n",
       "0      11:35:52            NaN  Eastern Time (US & Canada)  \n",
       "1      11:15:59            NaN  Pacific Time (US & Canada)  \n",
       "2      11:15:48      Lets Play  Central Time (US & Canada)  \n",
       "3      11:15:36            NaN  Pacific Time (US & Canada)  \n",
       "4      11:14:45            NaN  Pacific Time (US & Canada)  "
      ]
     },
     "execution_count": 4,
     "metadata": {},
     "output_type": "execute_result"
    }
   ],
   "source": [
    "df.head(5)"
   ]
  },
  {
   "cell_type": "code",
   "execution_count": 37,
   "metadata": {},
   "outputs": [
    {
     "data": {
      "text/plain": [
       "tweet_id                            0\n",
       "airline_sentiment                   0\n",
       "airline_sentiment_confidence        0\n",
       "negativereason                   5462\n",
       "negativereason_confidence        4118\n",
       "airline                             0\n",
       "airline_sentiment_gold          14600\n",
       "name                                0\n",
       "negativereason_gold             14608\n",
       "retweet_count                       0\n",
       "text                                0\n",
       "tweet_coord                     13621\n",
       "tweet_created                       0\n",
       "tweet_location                   4733\n",
       "user_timezone                    4820\n",
       "dtype: int64"
      ]
     },
     "execution_count": 37,
     "metadata": {},
     "output_type": "execute_result"
    }
   ],
   "source": [
    "df.isnull().sum()"
   ]
  },
  {
   "cell_type": "code",
   "execution_count": 5,
   "metadata": {},
   "outputs": [],
   "source": [
    "df.drop(['airline_sentiment_gold','name','negativereason_gold','retweet_count','tweet_coord'],inplace=True,axis=1)"
   ]
  },
  {
   "cell_type": "code",
   "execution_count": 6,
   "metadata": {},
   "outputs": [
    {
     "data": {
      "text/html": [
       "<div>\n",
       "<style scoped>\n",
       "    .dataframe tbody tr th:only-of-type {\n",
       "        vertical-align: middle;\n",
       "    }\n",
       "\n",
       "    .dataframe tbody tr th {\n",
       "        vertical-align: top;\n",
       "    }\n",
       "\n",
       "    .dataframe thead th {\n",
       "        text-align: right;\n",
       "    }\n",
       "</style>\n",
       "<table border=\"1\" class=\"dataframe\">\n",
       "  <thead>\n",
       "    <tr style=\"text-align: right;\">\n",
       "      <th></th>\n",
       "      <th>tweet_id</th>\n",
       "      <th>airline_sentiment</th>\n",
       "      <th>airline_sentiment_confidence</th>\n",
       "      <th>negativereason</th>\n",
       "      <th>negativereason_confidence</th>\n",
       "      <th>airline</th>\n",
       "      <th>text</th>\n",
       "      <th>tweet_created</th>\n",
       "      <th>tweet_location</th>\n",
       "      <th>user_timezone</th>\n",
       "    </tr>\n",
       "  </thead>\n",
       "  <tbody>\n",
       "    <tr>\n",
       "      <th>10</th>\n",
       "      <td>5.702940e+17</td>\n",
       "      <td>neutral</td>\n",
       "      <td>0.6769</td>\n",
       "      <td>NaN</td>\n",
       "      <td>0.0</td>\n",
       "      <td>Virgin America</td>\n",
       "      <td>@VirginAmerica did you know that suicide is th...</td>\n",
       "      <td>10:48:24</td>\n",
       "      <td>1/1 loner squad</td>\n",
       "      <td>Eastern Time (US &amp; Canada)</td>\n",
       "    </tr>\n",
       "    <tr>\n",
       "      <th>11</th>\n",
       "      <td>5.702900e+17</td>\n",
       "      <td>positive</td>\n",
       "      <td>1.0000</td>\n",
       "      <td>NaN</td>\n",
       "      <td>NaN</td>\n",
       "      <td>Virgin America</td>\n",
       "      <td>@VirginAmerica I &amp;lt;3 pretty graphics. so muc...</td>\n",
       "      <td>10:30:40</td>\n",
       "      <td>NYC</td>\n",
       "      <td>America/New_York</td>\n",
       "    </tr>\n",
       "    <tr>\n",
       "      <th>12</th>\n",
       "      <td>5.702900e+17</td>\n",
       "      <td>positive</td>\n",
       "      <td>1.0000</td>\n",
       "      <td>NaN</td>\n",
       "      <td>NaN</td>\n",
       "      <td>Virgin America</td>\n",
       "      <td>@VirginAmerica This is such a great deal! Alre...</td>\n",
       "      <td>10:30:06</td>\n",
       "      <td>NYC</td>\n",
       "      <td>America/New_York</td>\n",
       "    </tr>\n",
       "    <tr>\n",
       "      <th>13</th>\n",
       "      <td>5.702870e+17</td>\n",
       "      <td>positive</td>\n",
       "      <td>0.6451</td>\n",
       "      <td>NaN</td>\n",
       "      <td>NaN</td>\n",
       "      <td>Virgin America</td>\n",
       "      <td>@VirginAmerica @virginmedia I'm flying your #f...</td>\n",
       "      <td>10:21:28</td>\n",
       "      <td>NaN</td>\n",
       "      <td>Eastern Time (US &amp; Canada)</td>\n",
       "    </tr>\n",
       "    <tr>\n",
       "      <th>14</th>\n",
       "      <td>5.702860e+17</td>\n",
       "      <td>positive</td>\n",
       "      <td>1.0000</td>\n",
       "      <td>NaN</td>\n",
       "      <td>NaN</td>\n",
       "      <td>Virgin America</td>\n",
       "      <td>@VirginAmerica Thanks!</td>\n",
       "      <td>10:15:29</td>\n",
       "      <td>San Francisco, CA</td>\n",
       "      <td>Pacific Time (US &amp; Canada)</td>\n",
       "    </tr>\n",
       "  </tbody>\n",
       "</table>\n",
       "</div>"
      ],
      "text/plain": [
       "        tweet_id airline_sentiment  airline_sentiment_confidence  \\\n",
       "10  5.702940e+17           neutral                        0.6769   \n",
       "11  5.702900e+17          positive                        1.0000   \n",
       "12  5.702900e+17          positive                        1.0000   \n",
       "13  5.702870e+17          positive                        0.6451   \n",
       "14  5.702860e+17          positive                        1.0000   \n",
       "\n",
       "   negativereason  negativereason_confidence         airline  \\\n",
       "10            NaN                        0.0  Virgin America   \n",
       "11            NaN                        NaN  Virgin America   \n",
       "12            NaN                        NaN  Virgin America   \n",
       "13            NaN                        NaN  Virgin America   \n",
       "14            NaN                        NaN  Virgin America   \n",
       "\n",
       "                                                 text tweet_created  \\\n",
       "10  @VirginAmerica did you know that suicide is th...      10:48:24   \n",
       "11  @VirginAmerica I &lt;3 pretty graphics. so muc...      10:30:40   \n",
       "12  @VirginAmerica This is such a great deal! Alre...      10:30:06   \n",
       "13  @VirginAmerica @virginmedia I'm flying your #f...      10:21:28   \n",
       "14                             @VirginAmerica Thanks!      10:15:29   \n",
       "\n",
       "       tweet_location               user_timezone  \n",
       "10    1/1 loner squad  Eastern Time (US & Canada)  \n",
       "11                NYC            America/New_York  \n",
       "12                NYC            America/New_York  \n",
       "13                NaN  Eastern Time (US & Canada)  \n",
       "14  San Francisco, CA  Pacific Time (US & Canada)  "
      ]
     },
     "execution_count": 6,
     "metadata": {},
     "output_type": "execute_result"
    }
   ],
   "source": [
    "df.iloc[10:15,:]"
   ]
  },
  {
   "cell_type": "code",
   "execution_count": 57,
   "metadata": {},
   "outputs": [
    {
     "data": {
      "text/plain": [
       "0"
      ]
     },
     "execution_count": 57,
     "metadata": {},
     "output_type": "execute_result"
    }
   ],
   "source": [
    "#df['negativereason_confidence']=df.negativereason_confidence.fillna(0)\n",
    "df.negativereason_confidence.isnull().sum()"
   ]
  },
  {
   "cell_type": "code",
   "execution_count": 7,
   "metadata": {},
   "outputs": [
    {
     "data": {
      "text/plain": [
       "<matplotlib.axes._subplots.AxesSubplot at 0x24c782207c8>"
      ]
     },
     "execution_count": 7,
     "metadata": {},
     "output_type": "execute_result"
    },
    {
     "data": {
      "image/png": "[encoded data removed]",
      "text/plain": [
       "<Figure size 432x288 with 1 Axes>"
      ]
     },
     "metadata": {
      "needs_background": "light"
     },
     "output_type": "display_data"
    }
   ],
   "source": [
    "#most tweets are negative\n",
    "sn.countplot(x='airline_sentiment',data=df)"
   ]
  },
  {
   "cell_type": "code",
   "execution_count": 9,
   "metadata": {},
   "outputs": [
    {
     "data": {
      "text/plain": [
       "<matplotlib.axes._subplots.AxesSubplot at 0x24c78f87e48>"
      ]
     },
     "execution_count": 9,
     "metadata": {},
     "output_type": "execute_result"
    },
    {
     "data": {
      "image/png": "[encoded data removed]",
      "text/plain": [
       "<Figure size 432x288 with 1 Axes>"
      ]
     },
     "metadata": {},
     "output_type": "display_data"
    }
   ],
   "source": [
    "#most tweets are for united airlines followed by US airways and then american\n",
    "df.airline.value_counts().plot(kind='pie',autopct='%1.0f%%')"
   ]
  },
  {
   "cell_type": "code",
   "execution_count": 10,
   "metadata": {
    "scrolled": true
   },
   "outputs": [
    {
     "data": {
      "text/plain": [
       "<matplotlib.axes._subplots.AxesSubplot at 0x24c78ff2cc8>"
      ]
     },
     "execution_count": 10,
     "metadata": {},
     "output_type": "execute_result"
    },
    {
     "data": {
      "image/png": "[encoded data removed]",
      "text/plain": [
       "<Figure size 432x288 with 1 Axes>"
      ]
     },
     "metadata": {
      "needs_background": "light"
     },
     "output_type": "display_data"
    }
   ],
   "source": [
    "sn.countplot(hue='airline_sentiment',x='airline',data=df)"
   ]
  },
  {
   "cell_type": "code",
   "execution_count": null,
   "metadata": {},
   "outputs": [],
   "source": []
  },
  {
   "cell_type": "code",
   "execution_count": 17,
   "metadata": {},
   "outputs": [
    {
     "data": {
      "image/png": "[encoded data removed]",
      "text/plain": [
       "<Figure size 454.875x360 with 1 Axes>"
      ]
     },
     "metadata": {
      "needs_background": "light"
     },
     "output_type": "display_data"
    }
   ],
   "source": [
    "#all three airline_sentiments for virgin america are very close to ach other or in almost equal ratio\n",
    "#among all the airlines negative tweets are more than positive and negative tweets\n",
    "x,y = 'airline' , 'airline_sentiment'\n",
    "\n",
    "df1 = df.groupby(x)[y].value_counts(normalize=True)\n",
    "df1 = df1.mul(100)\n",
    "df1 = df1.rename('percent').reset_index()\n",
    "\n",
    "g = sn.catplot(x=x,y='percent',hue=y,kind='bar',data=df1)\n",
    "g.ax.set_ylim(0,100)\n",
    "\n",
    "for p in g.ax.patches:\n",
    "    txt = str(p.get_height().round(2)) + '%'\n",
    "    txt_x = p.get_x() \n",
    "    txt_y = p.get_height()\n",
    "    g.ax.text(txt_x,txt_y,txt)"
   ]
  },
  {
   "cell_type": "code",
   "execution_count": 18,
   "metadata": {},
   "outputs": [
    {
     "data": {
      "text/plain": [
       "Customer Service Issue         2910\n",
       "Late Flight                    1665\n",
       "Can't Tell                     1190\n",
       "Cancelled Flight                847\n",
       "Lost Luggage                    724\n",
       "Bad Flight                      580\n",
       "Flight Booking Problems         529\n",
       "Flight Attendant Complaints     481\n",
       "longlines                       178\n",
       "Damaged Luggage                  74\n",
       "Name: negativereason, dtype: int64"
      ]
     },
     "execution_count": 18,
     "metadata": {},
     "output_type": "execute_result"
    }
   ],
   "source": [
    "df.negativereason.value_counts()"
   ]
  },
  {
   "cell_type": "code",
   "execution_count": 26,
   "metadata": {},
   "outputs": [
    {
     "data": {
      "text/plain": [
       "Text(0, 0.5, 'No. of Tweets')"
      ]
     },
     "execution_count": 26,
     "metadata": {},
     "output_type": "execute_result"
    },
    {
     "data": {
      "image/png": "[encoded data removed]",
      "text/plain": [
       "<Figure size 576x432 with 1 Axes>"
      ]
     },
     "metadata": {
      "needs_background": "light"
     },
     "output_type": "display_data"
    }
   ],
   "source": [
    "#Plotting all the negative reasons \n",
    "color=sn.color_palette(\"husl\", 10)\n",
    "pd.Series(df[\"negativereason\"]).value_counts().plot(kind = \"bar\",\n",
    "                        color=color,figsize=(8,6),title = \"Total Negative Reasons\")\n",
    "plt.xlabel('Negative Reasons', fontsize=10)\n",
    "plt.ylabel('No. of Tweets', fontsize=10)\n"
   ]
  },
  {
   "cell_type": "code",
   "execution_count": 27,
   "metadata": {},
   "outputs": [
    {
     "data": {
      "text/plain": [
       "<matplotlib.axes._subplots.AxesSubplot at 0x24c792a3688>"
      ]
     },
     "execution_count": 27,
     "metadata": {},
     "output_type": "execute_result"
    },
    {
     "data": {
      "image/png": "[encoded data removed]",
      "text/plain": [
       "<Figure size 432x432 with 1 Axes>"
      ]
     },
     "metadata": {},
     "output_type": "display_data"
    }
   ],
   "source": [
    "color=sn.color_palette(\"husl\", 10)\n",
    "pd.Series(df[\"negativereason\"]).value_counts().head(5).plot(kind=\"pie\",\n",
    "                labels=[\"Customer Service Issue\", \"Late Flight\", \"Can't Tell\",\"Cancelled Flight\",\"Lost Luggage\"],\n",
    "                colors=color,autopct='%.2f',explode=[0.05,0,0.02,0.03,0.04],shadow=True,\n",
    "                fontsize=12,figsize=(6, 6),title=\"Top 5 Negative Reasons\")"
   ]
  },
  {
   "cell_type": "code",
   "execution_count": 119,
   "metadata": {},
   "outputs": [
    {
     "data": {
      "text/plain": [
       "<matplotlib.axes._subplots.AxesSubplot at 0x24c7aef44c8>"
      ]
     },
     "execution_count": 119,
     "metadata": {},
     "output_type": "execute_result"
    },
    {
     "data": {
      "image/png": "[encoded data removed]",
      "text/plain": [
       "<Figure size 432x288 with 1 Axes>"
      ]
     },
     "metadata": {
      "needs_background": "light"
     },
     "output_type": "display_data"
    }
   ],
   "source": [
    "#The confidence intervals of negative tweets are mostly in range 0.92-1\n",
    "df[df['airline_sentiment']=='negative'].airline_sentiment_confidence.plot(kind='hist')"
   ]
  },
  {
   "cell_type": "code",
   "execution_count": 120,
   "metadata": {},
   "outputs": [
    {
     "data": {
      "text/plain": [
       "<matplotlib.axes._subplots.AxesSubplot at 0x24c7af8e788>"
      ]
     },
     "execution_count": 120,
     "metadata": {},
     "output_type": "execute_result"
    },
    {
     "data": {
      "image/png": "[encoded data removed]",
      "text/plain": [
       "<Figure size 432x288 with 1 Axes>"
      ]
     },
     "metadata": {
      "needs_background": "light"
     },
     "output_type": "display_data"
    }
   ],
   "source": [
    "#The confidence intervals of positive tweets are mostly in range 0.92-1\n",
    "df[df['airline_sentiment']=='positive'].airline_sentiment_confidence.plot(kind='hist')"
   ]
  },
  {
   "cell_type": "code",
   "execution_count": 121,
   "metadata": {},
   "outputs": [
    {
     "data": {
      "text/plain": [
       "<matplotlib.axes._subplots.AxesSubplot at 0x24c7b897508>"
      ]
     },
     "execution_count": 121,
     "metadata": {},
     "output_type": "execute_result"
    },
    {
     "data": {
      "image/png": "[encoded data removed]",
      "text/plain": [
       "<Figure size 432x288 with 1 Axes>"
      ]
     },
     "metadata": {
      "needs_background": "light"
     },
     "output_type": "display_data"
    }
   ],
   "source": [
    "#The confidence intervals of neutral tweets are mostly in range 0.92-1\n",
    "df[df['airline_sentiment']=='neutral'].airline_sentiment_confidence.plot(kind='hist')"
   ]
  },
  {
   "cell_type": "code",
   "execution_count": 125,
   "metadata": {},
   "outputs": [
    {
     "data": {
      "text/plain": [
       "<matplotlib.axes._subplots.AxesSubplot at 0x24c7b91ca48>"
      ]
     },
     "execution_count": 125,
     "metadata": {},
     "output_type": "execute_result"
    },
    {
     "data": {
      "image/png": "[encoded data removed]",
      "text/plain": [
       "<Figure size 432x288 with 1 Axes>"
      ]
     },
     "metadata": {
      "needs_background": "light"
     },
     "output_type": "display_data"
    }
   ],
   "source": [
    "#avg confidence interval for negative tweets is highest\n",
    "sn.barplot(x='airline_sentiment', y='airline_sentiment_confidence' , data=df)"
   ]
  },
  {
   "cell_type": "code",
   "execution_count": 38,
   "metadata": {},
   "outputs": [
    {
     "data": {
      "text/html": [
       "<div>\n",
       "<style scoped>\n",
       "    .dataframe tbody tr th:only-of-type {\n",
       "        vertical-align: middle;\n",
       "    }\n",
       "\n",
       "    .dataframe tbody tr th {\n",
       "        vertical-align: top;\n",
       "    }\n",
       "\n",
       "    .dataframe thead th {\n",
       "        text-align: right;\n",
       "    }\n",
       "</style>\n",
       "<table border=\"1\" class=\"dataframe\">\n",
       "  <thead>\n",
       "    <tr style=\"text-align: right;\">\n",
       "      <th>airline_sentiment</th>\n",
       "      <th>negative</th>\n",
       "      <th>neutral</th>\n",
       "      <th>positive</th>\n",
       "    </tr>\n",
       "    <tr>\n",
       "      <th>airline</th>\n",
       "      <th></th>\n",
       "      <th></th>\n",
       "      <th></th>\n",
       "    </tr>\n",
       "  </thead>\n",
       "  <tbody>\n",
       "    <tr>\n",
       "      <th>American</th>\n",
       "      <td>1960</td>\n",
       "      <td>463</td>\n",
       "      <td>336</td>\n",
       "    </tr>\n",
       "    <tr>\n",
       "      <th>Delta</th>\n",
       "      <td>955</td>\n",
       "      <td>723</td>\n",
       "      <td>544</td>\n",
       "    </tr>\n",
       "    <tr>\n",
       "      <th>Southwest</th>\n",
       "      <td>1186</td>\n",
       "      <td>664</td>\n",
       "      <td>570</td>\n",
       "    </tr>\n",
       "    <tr>\n",
       "      <th>US Airways</th>\n",
       "      <td>2263</td>\n",
       "      <td>381</td>\n",
       "      <td>269</td>\n",
       "    </tr>\n",
       "    <tr>\n",
       "      <th>United</th>\n",
       "      <td>2633</td>\n",
       "      <td>697</td>\n",
       "      <td>492</td>\n",
       "    </tr>\n",
       "    <tr>\n",
       "      <th>Virgin America</th>\n",
       "      <td>181</td>\n",
       "      <td>171</td>\n",
       "      <td>152</td>\n",
       "    </tr>\n",
       "  </tbody>\n",
       "</table>\n",
       "</div>"
      ],
      "text/plain": [
       "airline_sentiment  negative  neutral  positive\n",
       "airline                                       \n",
       "American               1960      463       336\n",
       "Delta                   955      723       544\n",
       "Southwest              1186      664       570\n",
       "US Airways             2263      381       269\n",
       "United                 2633      697       492\n",
       "Virgin America          181      171       152"
      ]
     },
     "execution_count": 38,
     "metadata": {},
     "output_type": "execute_result"
    }
   ],
   "source": [
    "air_senti=pd.crosstab(df.airline,df.airline_sentiment)\n",
    "air_senti"
   ]
  },
  {
   "cell_type": "code",
   "execution_count": 39,
   "metadata": {},
   "outputs": [
    {
     "data": {
      "text/html": [
       "<div>\n",
       "<style scoped>\n",
       "    .dataframe tbody tr th:only-of-type {\n",
       "        vertical-align: middle;\n",
       "    }\n",
       "\n",
       "    .dataframe tbody tr th {\n",
       "        vertical-align: top;\n",
       "    }\n",
       "\n",
       "    .dataframe thead th {\n",
       "        text-align: right;\n",
       "    }\n",
       "</style>\n",
       "<table border=\"1\" class=\"dataframe\">\n",
       "  <thead>\n",
       "    <tr style=\"text-align: right;\">\n",
       "      <th>airline_sentiment</th>\n",
       "      <th>negative</th>\n",
       "      <th>neutral</th>\n",
       "      <th>positive</th>\n",
       "    </tr>\n",
       "    <tr>\n",
       "      <th>airline</th>\n",
       "      <th></th>\n",
       "      <th></th>\n",
       "      <th></th>\n",
       "    </tr>\n",
       "  </thead>\n",
       "  <tbody>\n",
       "    <tr>\n",
       "      <th>American</th>\n",
       "      <td>71.040232</td>\n",
       "      <td>16.781443</td>\n",
       "      <td>12.178325</td>\n",
       "    </tr>\n",
       "    <tr>\n",
       "      <th>Delta</th>\n",
       "      <td>42.979298</td>\n",
       "      <td>32.538254</td>\n",
       "      <td>24.482448</td>\n",
       "    </tr>\n",
       "    <tr>\n",
       "      <th>Southwest</th>\n",
       "      <td>49.008264</td>\n",
       "      <td>27.438017</td>\n",
       "      <td>23.553719</td>\n",
       "    </tr>\n",
       "    <tr>\n",
       "      <th>US Airways</th>\n",
       "      <td>77.686234</td>\n",
       "      <td>13.079300</td>\n",
       "      <td>9.234466</td>\n",
       "    </tr>\n",
       "    <tr>\n",
       "      <th>United</th>\n",
       "      <td>68.890633</td>\n",
       "      <td>18.236525</td>\n",
       "      <td>12.872841</td>\n",
       "    </tr>\n",
       "    <tr>\n",
       "      <th>Virgin America</th>\n",
       "      <td>35.912698</td>\n",
       "      <td>33.928571</td>\n",
       "      <td>30.158730</td>\n",
       "    </tr>\n",
       "  </tbody>\n",
       "</table>\n",
       "</div>"
      ],
      "text/plain": [
       "airline_sentiment   negative    neutral   positive\n",
       "airline                                           \n",
       "American           71.040232  16.781443  12.178325\n",
       "Delta              42.979298  32.538254  24.482448\n",
       "Southwest          49.008264  27.438017  23.553719\n",
       "US Airways         77.686234  13.079300   9.234466\n",
       "United             68.890633  18.236525  12.872841\n",
       "Virgin America     35.912698  33.928571  30.158730"
      ]
     },
     "execution_count": 39,
     "metadata": {},
     "output_type": "execute_result"
    }
   ],
   "source": [
    "percent=air_senti.apply(lambda a: a / a.sum() * 100, axis=1)\n",
    "percent"
   ]
  },
  {
   "cell_type": "code",
   "execution_count": 31,
   "metadata": {},
   "outputs": [
    {
     "data": {
      "text/plain": [
       "<matplotlib.axes._subplots.AxesSubplot at 0x24c79436e08>"
      ]
     },
     "execution_count": 31,
     "metadata": {},
     "output_type": "execute_result"
    },
    {
     "data": {
      "image/png": "[encoded data removed]",
      "text/plain": [
       "<Figure size 720x432 with 1 Axes>"
      ]
     },
     "metadata": {
      "needs_background": "light"
     },
     "output_type": "display_data"
    }
   ],
   "source": [
    "percent.plot(kind='bar',figsize=(10, 6),alpha=0.5,title=\"Airline Sentiment Percentage\")\n"
   ]
  },
  {
   "cell_type": "code",
   "execution_count": 40,
   "metadata": {},
   "outputs": [
    {
     "data": {
      "text/plain": [
       "0    2021-04-11\n",
       "1    2021-04-11\n",
       "2    2021-04-11\n",
       "3    2021-04-11\n",
       "4    2021-04-11\n",
       "Name: date_created, dtype: object"
      ]
     },
     "execution_count": 40,
     "metadata": {},
     "output_type": "execute_result"
    }
   ],
   "source": [
    "df['tweet_created'] = pd.to_datetime(df['tweet_created'])\n",
    "df['date_created']=df['tweet_created'].dt.date\n",
    "df['date_created'].head(5)"
   ]
  },
  {
   "cell_type": "code",
   "execution_count": 49,
   "metadata": {},
   "outputs": [
    {
     "data": {
      "text/html": [
       "<div>\n",
       "<style scoped>\n",
       "    .dataframe tbody tr th:only-of-type {\n",
       "        vertical-align: middle;\n",
       "    }\n",
       "\n",
       "    .dataframe tbody tr th {\n",
       "        vertical-align: top;\n",
       "    }\n",
       "\n",
       "    .dataframe thead th {\n",
       "        text-align: right;\n",
       "    }\n",
       "</style>\n",
       "<table border=\"1\" class=\"dataframe\">\n",
       "  <thead>\n",
       "    <tr style=\"text-align: right;\">\n",
       "      <th></th>\n",
       "      <th>airline_sentiment</th>\n",
       "      <th>negative</th>\n",
       "      <th>neutral</th>\n",
       "      <th>positive</th>\n",
       "    </tr>\n",
       "    <tr>\n",
       "      <th>date_created</th>\n",
       "      <th>airline</th>\n",
       "      <th></th>\n",
       "      <th></th>\n",
       "      <th></th>\n",
       "    </tr>\n",
       "  </thead>\n",
       "  <tbody>\n",
       "    <tr>\n",
       "      <th rowspan=\"6\" valign=\"top\">2021-04-11</th>\n",
       "      <th>American</th>\n",
       "      <td>1960</td>\n",
       "      <td>463</td>\n",
       "      <td>336</td>\n",
       "    </tr>\n",
       "    <tr>\n",
       "      <th>Delta</th>\n",
       "      <td>955</td>\n",
       "      <td>723</td>\n",
       "      <td>544</td>\n",
       "    </tr>\n",
       "    <tr>\n",
       "      <th>Southwest</th>\n",
       "      <td>1186</td>\n",
       "      <td>664</td>\n",
       "      <td>570</td>\n",
       "    </tr>\n",
       "    <tr>\n",
       "      <th>US Airways</th>\n",
       "      <td>2263</td>\n",
       "      <td>381</td>\n",
       "      <td>269</td>\n",
       "    </tr>\n",
       "    <tr>\n",
       "      <th>United</th>\n",
       "      <td>2633</td>\n",
       "      <td>697</td>\n",
       "      <td>492</td>\n",
       "    </tr>\n",
       "    <tr>\n",
       "      <th>Virgin America</th>\n",
       "      <td>181</td>\n",
       "      <td>171</td>\n",
       "      <td>152</td>\n",
       "    </tr>\n",
       "  </tbody>\n",
       "</table>\n",
       "</div>"
      ],
      "text/plain": [
       "airline_sentiment            negative  neutral  positive\n",
       "date_created airline                                    \n",
       "2021-04-11   American            1960      463       336\n",
       "             Delta                955      723       544\n",
       "             Southwest           1186      664       570\n",
       "             US Airways          2263      381       269\n",
       "             United              2633      697       492\n",
       "             Virgin America       181      171       152"
      ]
     },
     "execution_count": 49,
     "metadata": {},
     "output_type": "execute_result"
    }
   ],
   "source": [
    "df2 = df.groupby(['date_created','airline'])\n",
    "df2 = df2.airline_sentiment.value_counts()\n",
    "df2.unstack()"
   ]
  },
  {
   "cell_type": "code",
   "execution_count": null,
   "metadata": {},
   "outputs": [],
   "source": []
  },
  {
   "cell_type": "code",
   "execution_count": 7,
   "metadata": {},
   "outputs": [],
   "source": [
    "df['negativereason']=df.negativereason.fillna(\" \")"
   ]
  },
  {
   "cell_type": "code",
   "execution_count": 8,
   "metadata": {},
   "outputs": [],
   "source": [
    "df['tweet_updated']=df['negativereason']+\" \"+df[\"text\"]"
   ]
  },
  {
   "cell_type": "code",
   "execution_count": null,
   "metadata": {},
   "outputs": [],
   "source": []
  },
  {
   "cell_type": "code",
   "execution_count": 9,
   "metadata": {},
   "outputs": [
    {
     "name": "stderr",
     "output_type": "stream",
     "text": [
      "C:\\Users\\djroc\\anaconda3\\lib\\site-packages\\ipykernel_launcher.py:2: SettingWithCopyWarning: \n",
      "A value is trying to be set on a copy of a slice from a DataFrame\n",
      "\n",
      "See the caveats in the documentation: https://pandas.pydata.org/pandas-docs/stable/user_guide/indexing.html#returning-a-view-versus-a-copy\n",
      "  \n"
     ]
    }
   ],
   "source": [
    "for i in range (0,len(df['tweet_updated'])):\n",
    "    df['tweet_updated'][i]=df['tweet_updated'][i].lstrip(\" \")"
   ]
  },
  {
   "cell_type": "code",
   "execution_count": 10,
   "metadata": {},
   "outputs": [
    {
     "name": "stderr",
     "output_type": "stream",
     "text": [
      "C:\\Users\\djroc\\anaconda3\\lib\\site-packages\\ipykernel_launcher.py:2: SettingWithCopyWarning: \n",
      "A value is trying to be set on a copy of a slice from a DataFrame\n",
      "\n",
      "See the caveats in the documentation: https://pandas.pydata.org/pandas-docs/stable/user_guide/indexing.html#returning-a-view-versus-a-copy\n",
      "  \n"
     ]
    }
   ],
   "source": [
    "for i in range(0,len(df['tweet_updated'])):\n",
    "          df['tweet_updated'][i] = re.sub(r'\\^[a-zA-Z]\\s+', ' ',df['tweet_updated'][i]) "
   ]
  },
  {
   "cell_type": "markdown",
   "metadata": {},
   "source": [
    "# TEXT PREPROCESSING"
   ]
  },
  {
   "cell_type": "code",
   "execution_count": 11,
   "metadata": {},
   "outputs": [
    {
     "data": {
      "text/plain": [
       "0                      @VirginAmerica What @dhepburn said.\n",
       "1        @VirginAmerica plus you've added commercials t...\n",
       "2        @VirginAmerica I didn't today... Must mean I n...\n",
       "3        Bad Flight @VirginAmerica it's really aggressi...\n",
       "4        Can't Tell @VirginAmerica and it's a really bi...\n",
       "                               ...                        \n",
       "14635    @AmericanAir thank you we got on a different f...\n",
       "14636    Customer Service Issue @AmericanAir leaving ov...\n",
       "14637    @AmericanAir Please bring American Airlines to...\n",
       "14638    Customer Service Issue @AmericanAir you have m...\n",
       "14639    @AmericanAir we have 8 ppl so we need 2 know h...\n",
       "Name: tweet_updated, Length: 14640, dtype: object"
      ]
     },
     "execution_count": 11,
     "metadata": {},
     "output_type": "execute_result"
    }
   ],
   "source": [
    "features=df['tweet_updated']\n",
    "features"
   ]
  },
  {
   "cell_type": "code",
   "execution_count": 12,
   "metadata": {},
   "outputs": [],
   "source": [
    "processed_features=[]\n",
    "for i in range(0,len(features)):\n",
    "    #processed_feature=re.sub('[^a-zA-Z]',' ',features[i])\n",
    "    processed_feature=re.sub(r'\\W',' ',features[i])\n",
    "    processed_feature=re.sub(r'^\\s+',' ',processed_feature)\n",
    "    processed_feature=re.sub(r'[0-9]',' ',processed_feature)\n",
    "    processed_feature=re.sub(r'\\s+[a-zA-Z]\\s+',' ',processed_feature)\n",
    "    processed_feature=re.sub(r'\\s+',' ',processed_feature)\n",
    "    processed_feature=processed_feature.lower()\n",
    "    #processed_features.append(processed_feature)\n",
    "    processed_feature=processed_feature.split()\n",
    "    processed_feature= [WordNetLemmatizer().lemmatize(word) for word in processed_feature if not word in set(stopwords.words('english'))]\n",
    "    processed_feature=\" \".join(processed_feature)\n",
    "    processed_features.append(processed_feature)\n",
    "    "
   ]
  },
  {
   "cell_type": "code",
   "execution_count": 13,
   "metadata": {},
   "outputs": [
    {
     "data": {
      "text/plain": [
       "['virginamerica dhepburn said',\n",
       " 'virginamerica plus added commercial experience tacky',\n",
       " 'virginamerica today must mean need take another trip',\n",
       " 'bad flight virginamerica really aggressive blast obnoxious entertainment guest face amp little recourse',\n",
       " 'tell virginamerica really big bad thing',\n",
       " 'tell virginamerica seriously would pay flight seat playing really bad thing flying va',\n",
       " 'virginamerica yes nearly every time fly vx ear worm go away',\n",
       " 'virginamerica really missed prime opportunity men without hat parody http co mwpg grezp',\n",
       " 'virginamerica well',\n",
       " 'virginamerica amazing arrived hour early good',\n",
       " 'virginamerica know suicide second leading cause death among teen',\n",
       " 'virginamerica lt pretty graphic much better minimal iconography',\n",
       " 'virginamerica great deal already thinking nd trip australia amp even gone st trip yet p',\n",
       " 'virginamerica virginmedia flying fabulous seductive sky take stress away travel http co ahlxhhkiyn',\n",
       " 'virginamerica thanks',\n",
       " 'late flight virginamerica sfo pdx schedule still mia',\n",
       " 'virginamerica excited first cross country flight lax mco heard nothing great thing virgin america daystogo',\n",
       " 'bad flight virginamerica flew nyc sfo last week fully sit seat due two large gentleman either side help',\n",
       " 'flying virginamerica',\n",
       " 'virginamerica know would amazingly awesome bos fll please want fly',\n",
       " 'tell virginamerica first fare may three time carrier seat available select',\n",
       " 'virginamerica love graphic http co ut grrwaaa',\n",
       " 'virginamerica love hipster innovation feel good brand',\n",
       " 'virginamerica making bos gt la non stop permanently anytime soon',\n",
       " 'customer service issue virginamerica guy messed seating reserved seating friend guy gave seat away want free internet',\n",
       " 'customer service issue virginamerica status match program applied three week called emailed response',\n",
       " 'tell virginamerica happened ur vegan food option least say ur site know able eat anything next hr fail',\n",
       " 'virginamerica miss worry together soon',\n",
       " 'bad flight virginamerica amazing get cold air vent vx noair worstflightever roasted sfotobos',\n",
       " 'virginamerica lax ewr middle seat red eye noob maneuver sendambien andchexmix',\n",
       " 'flight booking problem virginamerica hi bked cool birthday trip add elevate cause entered middle name flight booking problem',\n",
       " 'virginamerica hour operation club sfo posted online current',\n",
       " 'customer service issue virginamerica help left expensive headphone flight iad lax today seat one answering amp number lax',\n",
       " 'customer service issue virginamerica awaiting return phone call would prefer use online self service option',\n",
       " 'virginamerica great news america could start flight hawaii end year http co p zy fe via pacificbiznews',\n",
       " 'nice rt virginamerica vibe moodlight takeoff touchdown moodlitmonday sciencebehindtheexperience http co unxtqp',\n",
       " 'virginamerica moodlighting way fly best experience ever cool calming moodlitmonday',\n",
       " 'virginamerica freddieawards done done best airline around hand',\n",
       " 'virginamerica book flight hawaii',\n",
       " 'customer service issue virginamerica chat support working site http co vhp gtdwpk',\n",
       " 'virginamerica view downtown los angeles hollywood sign beyond rain mountain http co dw nf ibtr',\n",
       " 'flight booking problem virginamerica hey first time flyer next week excited hard time getting flight added elevate account help',\n",
       " 'virginamerica plz help win bid upgrade flight lax gt sea',\n",
       " 'virginamerica unused ticket moved new city fly fly expires travelhelp',\n",
       " 'virginamerica flight leaving dallas seattle time feb',\n",
       " 'virginamerica elevategold good reason rock',\n",
       " 'virginamerica dream http co oa drfaoq http co lwwdac khx',\n",
       " 'virginamerica wow blew mind',\n",
       " 'virginamerica ladygaga carrieunderwood last night tribute soundofmusic oscar ladygaga think carrieunderwood agree',\n",
       " 'virginamerica ladygaga carrieunderwood entertaining',\n",
       " 'virginamerica flight way supposed take minute ago website still show time flight thanks',\n",
       " 'virginamerica ladygaga carrieunderwood julie andrew way though ladygaga impressive carrieunderwood',\n",
       " 'virginamerica wish flew atlanta soon',\n",
       " 'virginamerica ladygaga carrieunderwood julie andrew hand',\n",
       " 'virginamerica flight leaving dallas la february th',\n",
       " 'flight booking problem virginamerica hi excited lga gt dal deal trying book since last week amp page never load thx',\n",
       " 'virginamerica know need spotify stat guiltypleasures',\n",
       " 'virginamerica ladygaga carrieunderwood lady gaga amazing',\n",
       " 'virginamerica ladygaga carrieunderwood carrie',\n",
       " 'virginamerica new marketing song http co lfulcbq let u know think',\n",
       " 'virginamerica ladygaga carrieunderwood julie andrew first lady gaga wow last night carrie meh',\n",
       " 'customer service issue virginamerica called week ago adding flight elevate still shown help',\n",
       " 'virginamerica ladygaga carrieunderwood great go carrieunderwood',\n",
       " 'virginamerica ladygaga carrieunderwood sorry mary martin first',\n",
       " 'virginamerica ladygaga carrieunderwood love three really beat classic',\n",
       " 'virginamerica flight dal dca pm tried check could status please',\n",
       " 'customer service issue virginamerica heyyyy guyyyys trying get hour someone call please',\n",
       " 'late flight virginamerica hi virgin hold minute earlier flight la nyc tonight earlier pm',\n",
       " 'virginamerica congrats winning travelzoo award best deal airline u http co kj iljaebv',\n",
       " 'lost luggage virginamerica everything fine lost bag',\n",
       " 'virginamerica need change reservation virgin credit card need modify phone waive change fee online',\n",
       " 'virginamerica emailed customer service team let know need tracking number',\n",
       " 'virginamerica hi booked flight need add baggage',\n",
       " 'flight attendant complaint virginamerica airline awesome lax loft need step game dirty table floor http co hy vrfhjht',\n",
       " 'virginamerica worried great ride new plane great crew airline like',\n",
       " 'virginamerica awesome flew yall sat morning way correct bill',\n",
       " 'virginamerica watch best student film country foot cmfat foot http co kek pdmgif',\n",
       " 'virginamerica first time flying different rate policy medium bag thanks',\n",
       " 'customer service issue virginamerica going customer service anyway speak human asap thank',\n",
       " 'virginamerica happened doom',\n",
       " 'customer service issue virginamerica supp biz traveler like southwestair customer service like jetblue neverflyvirginforbusiness',\n",
       " 'virginamerica applied member inflight crew team im interested flightattendant dreampath g',\n",
       " 'late flight virginamerica best whenever begrudgingly use airline delayed late flight',\n",
       " 'tell virginamerica interesting flying cancelled flight next four flight planned neverflyvirginforbusiness',\n",
       " 'tell virginamerica disappointing experience shared every business traveler meet neverflyvirgin',\n",
       " 'flight booking problem virginamerica trouble adding flight wife booked elevate account help http co px hqoks r',\n",
       " 'virginamerica bring reservation online using flight booking problem code',\n",
       " 'virginamerica random distribution elevate avatar bet kitty disproportionate share http co aptzpurop',\n",
       " 'virginamerica lt flying va life happens trying change trip jperhi help va home page let',\n",
       " 'tell virginamerica site back',\n",
       " 'virginamerica rnp yeah know',\n",
       " 'virginamerica hi get point elevate account recent flight add flight point account',\n",
       " 'cancelled flight virginamerica like tv interesting video disappointed cancelled flightled flight flight went jfk saturday',\n",
       " 'late flight virginamerica landed lax hour late flight bag check business travel friendly nomorevirgin',\n",
       " 'virginamerica flight redirected',\n",
       " 'customer service issue virginamerica website btw new website great user experience time another redesign',\n",
       " 'customer service issue virginamerica check add bag website working tried desktop mobile http co avyqdmpi',\n",
       " 'tell virginamerica let scanned passenger leave plane told someone remove bag st class bin uncomfortable',\n",
       " 'flight booking problem virginamerica phone number find call flight reservation',\n",
       " 'customer service issue virginamerica anyone anything today website useless one answering phone',\n",
       " 'virginamerica trying add boy prince ressie sf thursday virginamerica lax http co gsb c gm',\n",
       " 'late flight virginamerica must traveler miss flight late flight check bag missed morning appointment lost business sfo lax',\n",
       " 'virginamerica check new music http co marcnocwzn',\n",
       " 'late flight virginamerica direct flight fll gt sfo unexpected layover vega fuel yet peep next bought vega flight sneaky',\n",
       " 'late flight virginamerica late flight bag check lost business missed flight apt three people flight exp',\n",
       " 'virginamerica amazing customer service raeann sf best customerservice virginamerica flying',\n",
       " 'customer service issue virginamerica called service line hung awesome sarcasm',\n",
       " 'flight booking problem virginamerica site tripping trying check getting plain text version reluctant enter card info',\n",
       " 'virginamerica scheduled sfo dal flight today changed th due weather look like flight still',\n",
       " 'virginamerica getaway deal may one way lot cool city http co tzzjhuibch cheapflights farecompare',\n",
       " 'virginamerica getaway deal may one way lot cool city http co rpdbpx wnd cheapflights farecompare',\n",
       " 'virginamerica getaway deal may one way lot cool city http co xi yg cheapflights farecompare',\n",
       " 'virginamerica getaway deal may one way lot cool city http co qdljhsloi cheapflights farecompare',\n",
       " 'virginamerica great week',\n",
       " 'virginamerica come back phl already need take u horrible cold pleasecomeback http co glxfwp nqh',\n",
       " 'late flight virginamerica concerned fly plane need delayed due tech stop',\n",
       " 'virginamerica best airline flown easy change reservation helpful representative amp comfortable flying experience',\n",
       " 'virginamerica another rep kicked butt naelah represents team beautifully thank',\n",
       " 'virginamerica beautiful front end design right cool still book ticket c back end secure',\n",
       " 'virginamerica love team running gate la tonight waited delayed flight kept thing entertaining',\n",
       " 'customer service issue virginamerica use another browser amp brand reputation built tech response cross browser compatible website',\n",
       " 'flight booking problem virginamerica flight flight booking problem site totally folk problem',\n",
       " 'customer service issue virginamerica like customer service min delay connecting passenger seems long va',\n",
       " 'virginamerica thanks outstanding nyc jfk crew moved mountain get home san francisco tonight',\n",
       " 'virginamerica absolute best team customer service ever every time fly delighted thank',\n",
       " 'virginamerica provide complimentary upgrade first class available seat',\n",
       " 'customer service issue virginamerica need change flight thats scheduled hour min wait time phone im calling intern help',\n",
       " 'virginamerica completely awesome experience last month bos la nonstop thanks awesome flight depart time vabeatsjblue',\n",
       " 'virginamerica watch oscar jfk gt sfo flight',\n",
       " 'virginamerica flight cancelled flightled',\n",
       " 'customer service issue virginamerica failing customer check process link tsa pre check',\n",
       " 'tell virginamerica fidifamilies u terrible airline gave u hotel hotline number said sorry',\n",
       " 'virginamerica flight number sfo cabo san lucas arrived yet',\n",
       " 'cancelled flight virginamerica chrysichrysic assistance yesterday cancelled flightled flight give u hotel hotline shame',\n",
       " 'late flight virginamerica another delayed flight likingyoulessandless',\n",
       " 'customer service issue virginamerica need register service dog first class ticket sfo gt dulles phone queue hour longer pls advise',\n",
       " 'virginamerica rock making watch oscar flight redcarpet oscar oscar',\n",
       " 'virginamerica reallytallchris dropped track http co zv pt trk',\n",
       " 'virginamerica always xoxo',\n",
       " 'flight booking problem virginamerica book seat flight buy even check creates much anxiety frustrated',\n",
       " 'flight attendant complaint virginamerica think paying extra buck rt luggage might afford hiring extra hand sfo lame',\n",
       " 'virginamerica best customer service rep world irmafromdallas take cake',\n",
       " 'virginamerica find u flt lax sooner midnight monday would great customer service',\n",
       " 'late flight virginamerica please provide status flight cant imagine time web indicates dude weather dallas',\n",
       " 'virginamerica amazing staff amp super helpful ran waltdisneyworld princesshalf spoiled comfort',\n",
       " 'cancelled flight virginamerica paid premium fly across country cancelled flight flight offer check fee upgrade love sad face',\n",
       " 'flight booking problem virginamerica question possible book seat infant giving option want seat',\n",
       " 'always together welcome rt virginamerica jessicajaymes welcome',\n",
       " 'virginamerica flight home dc sunset globe backtowinter back work refreshed http co vx vbctdlf',\n",
       " 'damaged luggage virginamerica understand need dm give answer damaged luggage policy',\n",
       " 'damaged luggage virginamerica mean policy destroyed luggage',\n",
       " 'virginamerica special assistance travel alone kid infant priority boarding',\n",
       " 'virginamerica thank checking ticket purchased customer happy',\n",
       " 'virginamerica website ever coming back online',\n",
       " 'virginamerica flight love field sfo definitely cancelled flightled monday february',\n",
       " 'virginamerica flight lga dfw time',\n",
       " 'virginamerica driver license expired little month fly friday morning using expired license',\n",
       " 'customer service issue virginamerica problem flight booking problem web site keep giving error contact phone phone minute wait',\n",
       " 'cancelled flight virginamerica reschedule cancelled flightled flight online change button greyed',\n",
       " 'flight booking problem virginamerica rang wait minute book ticket vendor fix site',\n",
       " 'late flight virginamerica got flight told today checked email tomorrow unacceptable',\n",
       " 'cancelled flight virginamerica flight lga cancelled flighted stuck dallas called reschedule told could get flight today',\n",
       " 'bad flight virginamerica pairing include red wine white offered redwineisbetter',\n",
       " 'customer service issue virginamerica website',\n",
       " 'customer service issue virginamerica site seems little wonked right may want look tried two browser cs http co qsqmm kf',\n",
       " 'customer service issue virginamerica disappointed agent designated silver status check line dulles_airport closed assist pasengers',\n",
       " 'virginamerica plan include austin dallas route topnews arab emirate http co aqzwecokk',\n",
       " 'customer service issue virginamerica normal receive reply central baggage baggageissues smh',\n",
       " 'longlines virginamerica logan airport waiting checkin flight checkin desk open',\n",
       " 'virginamerica jump dallas austin market dallas_news http co ewwgi gdx',\n",
       " 'virginamerica beat eps view take southwestair va luv investor business daily http co flwmgdahxu',\n",
       " 'virginamerica lister show monday',\n",
       " 'virginamerica begin dallas austin flight april ketr http co ssuvwwkyhh',\n",
       " 'tell virginamerica congrats got business ewr sfo lax fuck united fl sfo ewr clincher',\n",
       " 'customer service issue virginamerica applied week ago heard back flying week disappointed',\n",
       " 'virginamerica love know policy damaged luggage',\n",
       " 'virginamerica thank follow',\n",
       " 'customer service issue virginamerica many apology worse airline even respond cudtomers',\n",
       " 'cancelled flight virginamerica shame va making people spend money stranded city airline landing jfk reimburse',\n",
       " 'virginamerica ttinac dm',\n",
       " 'virginamerica please flight sjc choice fly southwest vega',\n",
       " 'customer service issue virginamerica bad say take day via confirmation email inquired week claim week',\n",
       " 'cancelled flight virginamerica flight bos gt la tomorrow cancelled flightled notification wait time hour rebook another airline',\n",
       " 'rt virginamerica met match got status another airline upgrade restr http co rhkamx vf http co pyalebgkjt',\n",
       " 'virginamerica way fly elevate gold',\n",
       " 'virginamerica guy flight cmh',\n",
       " 'tell virginamerica lot apology thrown customer see sad thanks nothing worst airline ever',\n",
       " 'flight attendant complaint virginamerica flight stuff wrong nothing worst flight ever',\n",
       " 'virginamerica issue finding missing item plane help find airport plane headed next',\n",
       " 'virginamerica match americanairlines status cool',\n",
       " 'virginamerica met match got status another airline upgrade http co rdktqy asarco_es_ar',\n",
       " 'flight booking problem virginamerica trying book flight guy website let lose business',\n",
       " 'tell virginamerica suck',\n",
       " 'virginamerica thanks',\n",
       " 'flight booking problem virginamerica dm issue persisting',\n",
       " 'cancelled flight virginamerica never rec cancelled flightlation notice left option fly p driving la red eye mon kid',\n",
       " 'flight booking problem virginamerica trying book flight amp site',\n",
       " 'cancelled flight virginamerica flight flying boston tomorrow need home cancelled flightled flight anything',\n",
       " 'cancelled flight virginamerica stink flight cancelled flighted psp jfk notification ability rebook disappointed expected better',\n",
       " 'virginamerica love guy song dancing high school dance revue',\n",
       " 'customer service issue virginamerica website trying check',\n",
       " 'virginamerica done thank quick response apparently faster sitting hold',\n",
       " 'virginamerica nervous flight dc lax getting cancelled flightled tomorrow sent dm help',\n",
       " 'virginamerica cool picture another virginamerica plane wing site http co agfd',\n",
       " 'virginamerica keep great work',\n",
       " 'virginamerica goodness people love field amazing pressure texas beatstheothers crisis please fly ny',\n",
       " 'virginamerica thanks great flight la boston pilot great job landing snow go back la seriously',\n",
       " 'virginamerica please get new york area monday afternoon',\n",
       " 'virginamerica thanks much awesome support guy rock',\n",
       " 'bad flight virginamerica seat row recline mention website soreback',\n",
       " 'late flight virginamerica flight delayed hour la due mechanical problem handle like pro could tossed u free drink',\n",
       " 'cancelled flight virginamerica cancelled flight flight today precipitation scared',\n",
       " 'virginamerica twitter team guy killed rescheduling asap thank',\n",
       " 'cancelled flight virginamerica guy charged reschedule flight cancelled flighted refusing refund deal',\n",
       " 'customer service issue virginamerica access website safari iphone seems work mac ipad need iphone add passbook',\n",
       " 'virginamerica ipad iphone clicking checkin link email received hr flight',\n",
       " 'customer service issue virginamerica mobile site broken show header elevateuser numofpointsavailable number point let checkin',\n",
       " 'cancelled flight virginamerica really looking forward flight let know rescheduled diehardvirgin',\n",
       " 'cancelled flight virginamerica cancelled flight flight vx one sec delayed airport next cancelled flightled gonna email call reschedule',\n",
       " 'customer service issue virginamerica problem link email check thanks',\n",
       " 'flight booking problem virginamerica change another airline get dc today united able land dc cost ugh',\n",
       " 'cancelled flight virginamerica looking forward first flight today cancelled flightled along subsequent one',\n",
       " 'virginamerica putting great deal pdx la la pdx show love http co eniqg buzj',\n",
       " 'virginamerica wish afford fly next friday going back home love everything airline',\n",
       " 'tell virginamerica gonna deal dallas dc deal dc dallas sad',\n",
       " 'virginamerica bug report guy',\n",
       " 'customer service issue virginamerica hold time call center bit much',\n",
       " 'virginamerica like http co vpqem xuq',\n",
       " 'flight booking problem virginamerica site help',\n",
       " 'virginamerica best flight attendant ever http co pxdel nq l',\n",
       " 'awesome rt virginamerica watch nominated film foot meetthefleet oscar http co dnstitrzwy',\n",
       " 'virginamerica thanks much',\n",
       " 'customer service issue virginamerica trying reset password email never arrives help',\n",
       " 'virginamerica airline based silicon valley disruption fcmostinnovative incubator fastcompany http co wu lbcncr',\n",
       " 'virginamerica nicely done',\n",
       " 'virginamerica looking forward watching oscar flight home tomorrow might even get something bubbly drink',\n",
       " 'late flight virginamerica reason delay departure vx jfk afternoon',\n",
       " 'cancelled flight virginamerica today flight palm spring ca jfk ny cancelled flightled',\n",
       " 'virginamerica hahaha virginamerica guy amazing love guy',\n",
       " 'virginamerica sound like fun',\n",
       " 'virginamerica update flight jfk gt lax',\n",
       " 'virginamerica spruce moose',\n",
       " 'customer service issue virginamerica cs site right please fix site unusable',\n",
       " 'lost luggage virginamerica flight vega boston today checked online bag count register fix somehow',\n",
       " 'virginamerica classiq luv virgin america greetingz',\n",
       " 'customer service issue virginamerica hi trying check website working tried different browser problem continues',\n",
       " 'virginamerica thanks great customer service today amp helping get travel sorted',\n",
       " 'virginamerica thanks guy sweet route rockies airplanemodewason',\n",
       " 'virginamerica love music blasting gate boston waiting flight sanfrancisco could get iced coffee',\n",
       " 'bad flight virginamerica passenger flt assaulted flown trust banned crew filed report faanews',\n",
       " 'flight booking problem virginamerica current bug website show select departure city selecting destination city http co sllyibe vq',\n",
       " 'damaged luggage virginamerica luggage severely dented missing wheel coming baggage claim san luggage agent miranda think help',\n",
       " 'virginamerica thank easy itinerary shift impending weather quick painless amp free',\n",
       " 'virginamerica love see girl inspired become pilot rt free woaw event march abq http co rfxlv kgdh',\n",
       " 'virginamerica thanks good time back vodkatonics entire flight sfo',\n",
       " 'virginamerica beat expectation share take santa cruz sentinel http co qm dqbai g',\n",
       " 'virginamerica plan start flying direct dal la',\n",
       " 'virginamerica big love gratitude mpower http co agr kncpf werin oscar vipswagbags avalonhollywood http co ybmbgs dhn',\n",
       " 'virginamerica great job adding little luxury aesthetic improve air travel experience thank keep',\n",
       " 'bad flight virginamerica requested window seat confirmed window got stuck middle seat good way treat silver member',\n",
       " 'virginamerica grand budapest hotel oscarscountdown',\n",
       " 'virginamerica missed newsvp next trip',\n",
       " 'bad flight virginamerica wtf paid direct flight purpose stop fuel exhausted frequent flier nothing inconvenience',\n",
       " 'customer service issue virginamerica something wrong website safari iphone',\n",
       " 'virginamerica thanks gate checking baggage full flight dfw lax giving early boarding sweet',\n",
       " 'tell virginamerica already checked page expired x',\n",
       " 'customer service issue virginamerica boo refunding seat upgrade fee want buy first place',\n",
       " 'virginamerica share rise financial result usa today http co lf pefe',\n",
       " 'virginamerica add pillow instead lie flat seat first class arm race http co rgywjbbhm',\n",
       " 'virginamerica see',\n",
       " 'virginamerica way take advantage mayweatherpacquiao',\n",
       " 'virginamerica know flying virgin fight mayweatherpacquiao',\n",
       " 'virginamerica inflight team make experience amazing',\n",
       " 'virginamerica cutest salt pepper shaker ever think guy get better http co vc keulg j',\n",
       " 'bad flight virginamerica moved seat notice better seat cabin select behind row selected disappointed',\n",
       " 'virginamerica share result iol http co xz qeg nef',\n",
       " 'virginamerica fav airline',\n",
       " 'virginamerica hot female pilot sweet dca sfo',\n",
       " 'guy going start flying paris virginamerica lizautter welcome',\n",
       " 'virginamerica policy flying surgery still waiting answer tell doctor',\n",
       " 'lost luggage virginamerica already contacted central baggage amp sent dm renttherunway charging dress lost suitcase help',\n",
       " 'virginamerica thank',\n",
       " 'customer service issue virginamerica anything going website getting lot error past minute',\n",
       " 'virginamerica think left something plane yesterday call ah',\n",
       " 'virginamerica need follow back order dm',\n",
       " 'virginamerica need start flying kciairport',\n",
       " 'virginamerica told check airline regulation first contacted',\n",
       " 'tell virginamerica virginatlantic checked flight sfo lax amp told atlantic flying club gold get benefit',\n",
       " 'flight attendant complaint virginamerica husband ordered three drink via screen never came awesome',\n",
       " 'bad flight virginamerica soooo guy going leave seatbelt light flight barely call turbulence',\n",
       " 'virginamerica policy flying surgery',\n",
       " 'virginamerica post second consecutive full year net profit atwonline http co tvb zbzvhg',\n",
       " 'flight booking problem virginamerica funny story website broken missing javascript stylesheets checkin process dislike',\n",
       " 'virginamerica would love virgin like gopro',\n",
       " 'virginamerica result handily exceed forecast nytimes http co gonmrwem',\n",
       " 'virginamerica applied position flylaxairport wondering guy received application',\n",
       " 'virginamerica achieves second year profitability despite revenue pressure capa_aviation http co zsuztnaijq',\n",
       " 'virginamerica give positive outlook see increased competition reuters http co jeu od eyj',\n",
       " 'customer service issue virginamerica trying check ct flight tmm desktop website working sort caching bug so',\n",
       " 'virginamerica weather delay gt next week jfk bos dca',\n",
       " 'virginamerica madbee check website go airport',\n",
       " 'customer service issue virginamerica guy know check link email broken http co npxb obmr',\n",
       " 'virginamerica pilot say expect choppy landing nyc due gusty wind temperature degree amp windchill',\n",
       " 'virginamerica loved wait monday return flight mostly watch inflight safety video sorrynotsorry',\n",
       " 'lost luggage virginamerica lost luggage day ago flight vx lax iad amp calling every day response please give back stuff',\n",
       " 'flight booking problem virginamerica flight booking problem section website seems broken chrome might wanna look',\n",
       " 'virginamerica hi wanted see new route planned year newark love flying guy hope',\n",
       " 'virginamerica mean probably inappropriate board',\n",
       " 'virginamerica happy spend day together let',\n",
       " 'virginamerica saving sanity right http co eltboljul',\n",
       " 'virginamerica missed flight standby work',\n",
       " 'virginamerica understanding helped thx comp',\n",
       " 'virginamerica brought way across country today see http co tkauygcpms',\n",
       " 'virginamerica thank absolutely',\n",
       " 'tell virginamerica look like broken link asset http co oardjjgrrd',\n",
       " 'virginamerica ready let say together noooo turbulence today',\n",
       " 'flight booking problem virginamerica manage itinerary section website seems broken http co pujvcelng',\n",
       " 'customer service issue virginamerica check site look like every time load http co kacy awdbw',\n",
       " 'virginamerica help freyabevan_fund need urgent treatment old battling cancer could help flight freyasfund',\n",
       " 'virginamerica may start service hawaii sanfrancisco year http co ypo nyprzl biztravel',\n",
       " 'customer service issue virginamerica carrier le half price round trip fare stunned http co ukdjjijrow',\n",
       " 'flight booking problem virginamerica wtf happening pdx late flight march one way sfo',\n",
       " 'virginamerica add dtw sold',\n",
       " 'virginamerica free drink flight back free promo',\n",
       " 'virginamerica ssal thanks',\n",
       " 'virginamerica momma made',\n",
       " 'virginamerica please contact portfolio left flight vx jfk sfo tonite seat need returned call',\n",
       " 'virginamerica help flight jkf tonight seat left portfolio need back',\n",
       " 'virginamerica shrinerack seattle bound wifey got duffle vday keeper holla http co jloiblnair',\n",
       " 'lost luggage virginamerica luggage gone filed paperwork promised call email still resolution response central luggage',\n",
       " 'virginamerica debbie baldwin gave rockstar performance safety demo evening vx la sfo bestcrew sherocks',\n",
       " 'virginamerica thanks',\n",
       " 'virginamerica thanks taking care suuperg flight rockstars travel',\n",
       " 'virginamerica thanks lovely soft view travel san sfo http co cnctl ef',\n",
       " 'flight booking problem virginamerica requested mileage challenge status several week ago online heard back get help',\n",
       " 'flight booking problem virginamerica trying book ticket nyc facing super fun broken styling worry keep trying',\n",
       " 'virginamerica many thanks follow ourprincess freyasfund usa bandie looking help http co ujfs zi kd',\n",
       " 'virginamerica nice lofty view flylaxairport silverstatus http co tp dawbd',\n",
       " 'customer service issue virginamerica applied status match feb got confirmation email day still news though guy dropped ball late flightly',\n",
       " 'virginamerica new go airline',\n",
       " 'virginamerica virginatlantic gma americanair help ourprincess need help usa http co aztdaer',\n",
       " 'virginamerica adore looking forward flight austin two week',\n",
       " 'virginamerica glad mentioned took first virgin flight year back transformative experience',\n",
       " 'virginamerica flight booking problem flight uphold status match tax ticket count earned status point statusmatch virginamerica',\n",
       " 'customer service issue virginamerica trying check look like site',\n",
       " 'late flight virginamerica spending birthday night dal dca get home',\n",
       " 'customer service issue virginamerica sent couple message email provided avail try next year cheer',\n",
       " 'virginamerica first time flying virgin went sanfrancisco thanks smooth ride easily new fav airline',\n",
       " 'tell virginamerica seriously though direct flight sfo fll may',\n",
       " 'flight booking problem virginamerica fine already done purchase try go way go back',\n",
       " 'bad flight virginamerica really experience hoping w forced check small carry nothing empty cabin space board',\n",
       " 'longlines virginamerica wjere luggage slow lax',\n",
       " 'virginamerica jump dallas austin market http co szr pioa',\n",
       " 'customer service issue virginamerica spoke representative offered solution loyal customer fly virginatlantic well',\n",
       " 'flight booking problem virginamerica deeply disappointed birthday promo applied trip booked mere day received email',\n",
       " 'flight booking problem virginamerica happened direct flight sfo fll looking may see connecting help dontdothistome',\n",
       " 'virginamerica help left blazer kooples jacket bag rd row second seat right gate lax flight sfo',\n",
       " 'virginamerica partner visa checkout mobile payment method help boost mobile conversion rate etailwest payment visa',\n",
       " 'virginamerica promoting product problem southwest recommend noneother best http co tfanxbh cf',\n",
       " 'virginamerica love guy pls get direct route la au',\n",
       " 'virginamerica would like help flight please',\n",
       " 'bruh virginamerica giannilee turn vxsafetydance',\n",
       " 'virginamerica course work virginatlantic obsessed entire virgin family',\n",
       " 'virginamerica ok first time flying tonight',\n",
       " 'virginamerica digging swanky pink mood lighting flight nyc sfo need cabaret singer think',\n",
       " 'virginamerica done need receipt asap could please help',\n",
       " 'tell virginamerica embossed badge patch superior one currently using http co fq xelbon',\n",
       " 'bad flight virginamerica vx jfk la dirty plane standard',\n",
       " 'bad flight virginamerica flight vx headed la jfk dirtiest va plane ever sad great airline',\n",
       " 'virginamerica got squared away someone picked soon tweeted tweeted sooner',\n",
       " 'customer service issue virginamerica avis rental continue button work website book car tried time phone suck',\n",
       " 'late flight virginamerica delayed',\n",
       " 'customer service issue virginamerica currently minute hold cust service need anything add lap child reservation',\n",
       " 'virginamerica add pillow instead lie flat seat first class arm race http co sfjduahx skift',\n",
       " 'virginamerica karinslee course fun celebrating thanks happy chinese new year',\n",
       " 'virginamerica flight booking problem last second flight next week sfo san chance want gift promo code since love guy',\n",
       " 'tell virginamerica comenity bank joke please change nothing constant problem bank',\n",
       " 'virginamerica dm also add',\n",
       " 'virginamerica grandma ella th would lt bday greeting flight crew stewardess eastern airline',\n",
       " 'virginamerica bought tix atx dallas route thanks adding love yr airline amp yr website best transactional site ever',\n",
       " 'virginamerica anytime sugafly',\n",
       " 'virginamerica gave credit late flight flight yesterday great service wow moment unexpected gesture',\n",
       " 'virginamerica need receipt flight change send one',\n",
       " 'customer service issue virginamerica submitted status match request back still heard flying monday look accelerate',\n",
       " 'virginamerica safety video http co cqmm nue loved first cross country flight livewelltraveled sytycd',\n",
       " 'virginamerica look fat look yummy',\n",
       " 'virginamerica ceo say southwest amp jetblue strayed low cost model http co sctomh',\n",
       " 'virginamerica brilliant brisk boston cue vx http co rmznivgmg',\n",
       " 'virginamerica atlantic plough lone furrow middleeast http co fvudmh pf thenationaluae',\n",
       " 'virginamerica atlantic plough lone furrow middleeast http co dcobokn ee thenationaluae',\n",
       " 'virginamerica atlantic plough lone furrow middleeast http co vw tlh thenationaluae',\n",
       " 'virginamerica omg omg nonstop dallas austin virgin',\n",
       " 'virginamerica plane really pretty thought know',\n",
       " 'virginamerica flying hawaii',\n",
       " 'flight booking problem virginamerica pulling hair trying book flight site work iphone ipad computer help',\n",
       " 'virginamerica thank',\n",
       " 'customer service issue virginamerica get help support ticket day incident thank',\n",
       " 'virginamerica good home texas moodlighting http co bvzty zi',\n",
       " 'bad flight virginamerica cannot even open laptop seat paid premium let',\n",
       " 'bad flight virginamerica seat cannot even open laptop paid extra seat',\n",
       " 'virginamerica guy starting flight end month guess still road tripping feb',\n",
       " 'virginamerica thanks needing way make austin trip dca come',\n",
       " 'virginamerica announced new route austin fare way http co ga pbamu c',\n",
       " 'virginamerica really sprint thought guy kewl _',\n",
       " 'virginamerica cool never ur plane',\n",
       " 'virginamerica dollar lax la fare',\n",
       " 'virginamerica great well deserved',\n",
       " 'customer service issue virginamerica fyi info virginamerica com email address say contact password reset email exist email bounce',\n",
       " 'customer service issue virginamerica status match week gone news flt next week hope flt count towards requirement cust svc help',\n",
       " 'customer service issue virginamerica website suck donkey dick thought know best',\n",
       " 'virginamerica still develop app favorite airline',\n",
       " 'tell virginamerica crap channel pay watch uk tv',\n",
       " 'virginamerica got set thanks',\n",
       " 'virginamerica channel year',\n",
       " 'virginamerica thing see passbook virgin mobile mexico integrate',\n",
       " 'virginamerica giant virgin america match made heaven',\n",
       " 'virginamerica thank goodness also see friday nwk gt sf boom',\n",
       " 'tell virginamerica come iphone app still using making waste paper',\n",
       " 'customer service issue virginamerica back seat entertainment system accept credit card apostrophe surname apostrophefail',\n",
       " 'longlines virginamerica vx use lga slot instead today adding au make le likely',\n",
       " 'virginamerica helping step tinder game tindertips tinderchamp http co jbmvvha',\n",
       " 'virginamerica luv ur people product thing charge herbal tea black tea caffeine drinker',\n",
       " 'virginamerica thank see soon excited see expansion destination spread wing',\n",
       " 'virginamerica announces new nonstop connecting austinairport amp dallaslovefield intro http co qxnoaqtyn http co jk qmdfqgf',\n",
       " 'virginamerica add austin dallas love field route http co xwjol flh http co aormfkac',\n",
       " 'flight booking problem virginamerica sad learn longer fly sfo gt phl hope return',\n",
       " 'virginamerica tweet cancelled flight chng fee flight rebook one affiliate afiliates',\n",
       " 'virginamerica incredible customer service ever experienced refreshing',\n",
       " 'virginamerica see virginamerica come philadelphia phl',\n",
       " 'virginamerica dreaming really open route dallas austin mean houston might next',\n",
       " 'virginamerica omg finally',\n",
       " 'virginamerica start xweekly flight dallas dallaslovefield austin apr avgeek',\n",
       " 'virginamerica nice see expanding texas forget u sandiego would love see flight',\n",
       " 'bad flight virginamerica kinda sucked earphone jack work flight may want look future passenger',\n",
       " 'bad flight virginamerica poor experience first computer problem seat malfunction stuck missing meeting san diego',\n",
       " 'virginamerica battle southwestair dallaslovefield austinairport route http co rlz ebk via usatoday',\n",
       " 'virginamerica thankyou dal au route make day',\n",
       " 'virginamerica awesome deal dal au way http co xcvqxykg',\n",
       " 'virginamerica miss nerdbird san jose',\n",
       " 'virginamerica love taking southwestair backyard consumer win biz competes',\n",
       " 'virginamerica flying love austin excellent news',\n",
       " 'virginamerica make every vx plane nerdbird austin one getting nerd love',\n",
       " 'virginamerica please add frequency pdx portland',\n",
       " 'virginamerica congrats vx new route',\n",
       " 'cancelled flight virginamerica tried offered charge additional new ticket stranded thurs st time last time',\n",
       " 'virginamerica americanair help flight get old battling cancer need treatment freyabevan_fund',\n",
       " 'tell virginamerica never bad experience one took cake extortion carry item well',\n",
       " 'damaged luggage virginamerica spend hour worrying item carryon would broken stolen since carry plane lock bag',\n",
       " 'flight attendant complaint virginamerica group told room bin got plane room least bag row',\n",
       " 'bad flight virginamerica thanks making flight lax jfk nightmare forcing check carry bag gate',\n",
       " 'customer service issue virginamerica lot flight book site working phone waiting minute',\n",
       " 'virginamerica flight artisanal cheese wine pairing',\n",
       " 'virginamerica virgin america fly direct seattle nyc boston',\n",
       " 'virginamerica classy',\n",
       " 'virginamerica sure lot jfk lhr flight go lot faster mph strong tailwind',\n",
       " 'virginamerica minus minute elevate silver upgrade window open freeneversucks',\n",
       " 'virginamerica save tomorrow',\n",
       " 'late flight virginamerica taking year fly home dallas get shit together',\n",
       " 'virginamerica jezziegoldz club virgin bumping new york http co haqc gdg c',\n",
       " 'virginamerica jezziegoldz would rough trip luckily virginamerica flight weather',\n",
       " 'virginamerica thestarter',\n",
       " 'virginamerica please come minneapolis st paul',\n",
       " 'virginamerica yes fyi bff',\n",
       " 'virginamerica another perfect flight come plane sun visor stay carrier make raise',\n",
       " 'nice rt virginamerica man steel might faster wifi saying sciencebehindtheexperience http co fgrbpazsix',\n",
       " 'virginamerica love dancing little richard cool bean',\n",
       " 'virginamerica use passbook still love though lt use email future',\n",
       " 'virginamerica thanks free birthday point right',\n",
       " 'virginamerica application io looking saw virgin mexico lt',\n",
       " 'customer service issue virginamerica man steel fly city though frequency',\n",
       " 'virginamerica thanks much sharing added site http co tsvibtvt h',\n",
       " 'virginamerica good point',\n",
       " 'virginamerica heard virgin mobile hotspot',\n",
       " 'virginamerica got cheese plate flight',\n",
       " 'virginamerica flight',\n",
       " 'virginamerica dad segway best part whole infographic',\n",
       " 'virginamerica plan short haul airline europe would defiantly fly guy',\n",
       " 'virginamerica wifi better seating',\n",
       " 'virginamerica come abc one network channel',\n",
       " 'customer service issue virginamerica started flight scolding using overhead bin offered person seated next',\n",
       " 'virginamerica great return call day ask myvxexperience',\n",
       " 'cancelled flight virginamerica airline cancelled flighting flight bos helping customer get home virgin saying good luck',\n",
       " 'virginamerica dear virgin customer stranded sf day amp cost least accommodate',\n",
       " 'virginamerica use next airline commercial lol http co pxexilsjbs',\n",
       " 'customer service issue virginamerica grouping virgin others bos weather exposed actual cu serv model never flight booking problem virgin',\n",
       " 'customer service issue virginamerica one traveler affected boston storm shocked virgin complete apathy toward customer',\n",
       " 'customer service issue virginamerica umm reason someone different contact contact get definitive answer',\n",
       " 'flight booking problem virginamerica trying make change advance hour prior tried online earlier wanted change fee',\n",
       " 'virginamerica loyal driving nyc pa fly virgin since cut philly flight',\n",
       " 'virginamerica way change main cabin main cabin select flight without paying change fee penalty',\n",
       " 'virginamerica guy perfect always lt wervirgin',\n",
       " 'virginamerica thanks best customer service left industry',\n",
       " 'virginamerica give silver status month',\n",
       " 'virginamerica really wish fly fargo fargoairport fare amazings',\n",
       " 'bad flight virginamerica mood lighting point reclining seat kickin foot',\n",
       " 'late flight virginamerica flight scheduled pm departure still say time plane gate update long delay',\n",
       " 'customer service issue virginamerica group got cancelled flightlation fee waived ticket booked rep help either',\n",
       " 'virginamerica sign bonus enroll elevate',\n",
       " 'virginamerica got pm newark home la folk ewr incredible letsgohome',\n",
       " 'virginamerica morning question regarding elevate point amp flight dm',\n",
       " 'virginamerica still waiting see starryeyes_dev_',\n",
       " 'virginamerica wondering guy recieved dm able potentially respond asap',\n",
       " 'virginamerica flying lax sfo looking awesome movie lineup actually wish long haul',\n",
       " 'virginamerica book town fare way restr http co xrdtov nl http co byackc jenniferdawnpro',\n",
       " 'united thanks',\n",
       " 'united thanks taking care mr happy customer',\n",
       " 'cancelled flight united still refund word via dm please resolve issue cancelled flightled flight useless assistant trip',\n",
       " 'late flight united delayed due lack crew delayed long line deicing still need improve service united',\n",
       " 'united thanks filled luck common',\n",
       " 'tell united eri ord express connection hugely popular could eri ewr hop',\n",
       " 'united even international flight glasgow orlando newark min',\n",
       " 'tell united think boarded flight au early think',\n",
       " 'united understand tough way get airport serious risk accident steep price',\n",
       " 'bad flight united gate agent hooked alternate flight way prevent constant issue would rock',\n",
       " 'united flying gla mco week long airport departure international domestic ta',\n",
       " 'united thanks',\n",
       " 'united thanks ticket',\n",
       " 'united law policy',\n",
       " 'flight booking problem united worst nonrefundable first class ticket oh select global fc system auto selects economy upgrade',\n",
       " 'customer service issue united cheertymedad buy tix day flight transfer tix flawed security logic flawed customer service',\n",
       " 'customer service issue united start claim week unrealistic really supposed go long car seat child ridiculous',\n",
       " 'united follow please airline beautifull',\n",
       " 'united sure united info system',\n",
       " 'lost luggage united car seat lost united reimburse new one pair shoe necessity child',\n",
       " 'united submitted response link sent',\n",
       " 'united yes david allan send email number kmm l km case',\n",
       " 'tell united highbuddyyy totally suck cousin worked phl said united',\n",
       " 'united wanted let know wonderful rosetta gate agent working flight dan ase let know wasappreciated',\n",
       " 'united yes paper voucher got january th',\n",
       " 'customer service issue united beginning feb called united said would send another voucher mail never got anything tiredofwaiting',\n",
       " 'customer service issue united internet great thing emailing executive company maybe respond timely manner',\n",
       " 'united need use chase united club pas yr old son come pas',\n",
       " 'united suppose number',\n",
       " 'tell united thats weak see ya hey virginamerica',\n",
       " 'tell united flew back company since united didnt earlier flight',\n",
       " 'united lost voucher given miami aeroport jan use',\n",
       " 'customer service issue united trying book award september need flight aegeanairlines show even many award seat availab',\n",
       " 'customer service issue united sure drive total hour get bag like explain debacle one want talk',\n",
       " 'united cheertymedad gee like almost caring ppl think int trusted adult daughter',\n",
       " 'late flight united see told repeatedly pilot late flight kept getting late flightr boarded defibrillator issue',\n",
       " 'longlines united preferred security line anymore tsa pre check pull silverairways partner flight platinum spoiled',\n",
       " 'tell united newarkliberty airport need indicate different gate terminal amp flyingainteasy',\n",
       " 'customer service issue united yes please newly married trying update last name preexisting international flight seems easy',\n",
       " 'customer service issue united united refuse reissue lost voucher plane take due mechanic badcustomerservice',\n",
       " 'tell united also run instructed shattered computer http co oaflfr wxb',\n",
       " 'flight attendant complaint united yes agent last minute one agent rude thankfully ladan nice',\n",
       " 'united right overnight miami',\n",
       " 'united client hr layover iah day claim amp recheck luggage taken care',\n",
       " 'united trying find loaner seat new used used car seat illegal according safety regulation',\n",
       " 'united dmed detail',\n",
       " 'flight attendant complaint united iah charlotte baggage claim rep latrice customerservice non existent ignored customer inappropriately touched customer',\n",
       " 'united kewl also let know overhead bin row inop love good abbreve',\n",
       " 'united thanks help got need issue _austrian guess sit awhile longer',\n",
       " 'customer service issue united uctraveladvisor would loved respond website saw really long form business new seat bad',\n",
       " 'cancelled flight united refund flight voucher another flight different airline expense today hour drive inconvenient',\n",
       " 'lost luggage united received call back day infant car seat supposed go anywhere child',\n",
       " 'united thanks concern contact customer care upon return australia',\n",
       " 'late flight united well sitting ground time waiting gate tiredofthis',\n",
       " 'united airport snow removal method keep good work folk cessna become http co tmusjvu',\n",
       " 'flight booking problem united need guy book plane concern travel someone else moving forward',\n",
       " 'late flight united measly certificate appreciate loyal customer wait hr tarmac ua unacceptable',\n",
       " 'tell united email address username sign available',\n",
       " 'united thank able claim interim expense cost stuff',\n",
       " 'tell united rude rude',\n",
       " 'flight booking problem united get boarding pas austrian airline codeshare flight rebook incls hour layover amp stuck outside sec',\n",
       " 'damaged luggage united received flight united truly break guitar unitedbreaksguitars wantmymoneyback',\n",
       " 'lost luggage united flew telaviv paid third suitcase even make plane besides impolite service',\n",
       " 'lost luggage united bag still colo spring disabled search unfamiliar airport look bag good outcome',\n",
       " 'customer service issue united shame flex ticket transfer rule even calling neurosurgery icu enough',\n",
       " 'customer service issue united denver said handle baggage made colo spring gave number call help either',\n",
       " 'customer service issue united guy need serious training customer service many better option put way guy handle ur mistake',\n",
       " 'united ord dca',\n",
       " 'customer service issue united found problem avoided like plague told find supervisor',\n",
       " 'cancelled flight united zcc cancelled flight flight advance need connect flight reschedule link helping help gf waited month see',\n",
       " 'tell united flying',\n",
       " 'late flight united addition first flight delayed hour arriving destination hr late flight',\n",
       " 'united cancelled flighted flight rebook u added flight drive denver kc thanks',\n",
       " 'united announcement pre boarding address mobility disability requires travel lot stuff preboard',\n",
       " 'united flew united last month experience awesome',\n",
       " 'flight booking problem united travel booked thru united group dept okc ticket agent le willing help connection lax',\n",
       " 'flight attendant complaint united upset disability service told one employee carrying medical equipment rude',\n",
       " 'customer service issue united thnx quick reply think assist intl grp put considerable inconvenience today',\n",
       " 'tell united wont transfer flight ticket accompany yr old active military mom emergency brain surgery wow',\n",
       " 'flight booking problem united getmeontop week late flightr still received mile mileageplus gift card starbucks card handed',\n",
       " 'customer service issue united k always hoping improvement',\n",
       " 'damaged luggage united yet complained guy checked luggage throwing bag around unfortunate coincidence hope',\n",
       " 'customer service issue united okc ticket agent roger mclarren sp le helpful intl group travel problem find supervisor help',\n",
       " 'tell united mobile apps need construction ground o category expensive get right',\n",
       " 'flight booking problem united another fail united ticket agent okc le helpful could care le problem american come',\n",
       " 'united also working wc coach good thing bird landed ahead schedule use wc stat',\n",
       " 'united o controlled rather verizonwireless app new',\n",
       " 'customer service issue united sent email customer care telling may break sincerely hope help',\n",
       " 'flight attendant complaint united silly flying delta today united club staff attendant surly unhelpful always seem bothered pesky folk',\n",
       " 'flight booking problem united phone number find call flight reservation',\n",
       " 'tell united well fix missing buddy th bday negligence attempt make',\n",
       " 'customer service issue united believe help customer service like said want number someone fix',\n",
       " 'lost luggage united helped baggage service desk said bc tsa screening fll bag made bag ewr',\n",
       " 'customer service issue united mobile boarding pas disappeared phone standing line board second time week hmm',\n",
       " 'united record rozana newark lovely helpful choosekind',\n",
       " 'united last night ord lga',\n",
       " 'united thx update',\n",
       " 'united thank',\n",
       " 'united dm nut',\n",
       " 'flight attendant complaint united explain eager flight attendant trying ask vision ccicanine guide dog',\n",
       " 'flight attendant complaint united point asking detail servicedog book flight crew read continued',\n",
       " 'late flight united tried one available bogota everyone rude houston stuck hour guy',\n",
       " 'bad flight united worst unitedflightsever ua la iad mechanical problem took land fix delayed wtfodds',\n",
       " 'united despite bag making newark good informative email tracking update help',\n",
       " 'late flight united going ua outbound flight last thurs delayed hr long delay worst unitedflightsever',\n",
       " 'late flight united worst unitedflightsever ua iad la mechanical problem switched aircraft delayed hour',\n",
       " 'customer service issue united crashed trying check',\n",
       " 'united wow deal plus seat available easy change make customer happy',\n",
       " 'united thanks info already knew',\n",
       " 'united airline trouble winter amp getting good customer service contact http co aqjn hwnac negotiate resolution',\n",
       " 'longlines united logan boarding gong show due lax carry enforcement bin full coat room bag need better system',\n",
       " 'united thank',\n",
       " 'customer service issue united blackmailed paying extra return ticket nullified san francisco airport terrible service rep scam',\n",
       " 'united email address reach long dm',\n",
       " 'customer service issue united disappointed didnt honor credit given ur mistake taking business elsewhere',\n",
       " 'late flight united ua still waiting supposed depart',\n",
       " 'customer service issue united credit last trip never came mail',\n",
       " 'customer service issue united ok month waiting hear airline gave quite bit day requested terrible service',\n",
       " 'customer service issue united process ever end still waiting reply since month pathetic customerservice',\n",
       " 'flight booking problem united going website flight booking problem three ticket today booted system umpteen time',\n",
       " 'customer service issue united get account number website say email unavailable',\n",
       " 'united need book two one way order fly unaccompanied minor',\n",
       " 'lost luggage united received bag last night still missing one',\n",
       " 'bad flight united simonroesner need upgrade seat even economy plus like sitting concrete bench',\n",
       " 'united pls help baby hannah get life saving surgery requires need help pls donate rt http co kqnrrp',\n",
       " 'united bet wont honour like mine ey',\n",
       " 'late flight united nd flight also delayed pilot boarded sit scheduling',\n",
       " 'united guess much ask huh',\n",
       " 'bad flight united hard stay upset someone least try show remorse',\n",
       " 'customer service issue united way simple apology go long way even hollow one obvious care well',\n",
       " 'customer service issue united one time thing either shocking pattern repeated neglect disrespect',\n",
       " 'tell united finger crossed amp intact disappointed experience actually saying enjoyed using',\n",
       " 'customer service issue united incredibly easy fix would rather stay comfort zone get forced mine',\n",
       " 'flight attendant complaint united july zero excuse date system cause problem like',\n",
       " 'tell united everyone around u sitting friend family member booked ticket october december bought',\n",
       " 'customer service issue united sure talking going nonstop flight sna sfo sfo ewr',\n",
       " 'customer service issue united moving americanair united talk service',\n",
       " 'united please good weekend',\n",
       " 'customer service issue united asked legitimate question systemwide v localized problem got back unrelate flightd copy paste better',\n",
       " 'lost luggage united time call need ski go airport get faith united',\n",
       " 'tell united see guy amazing one company continually make mistake yet fails held accountable error',\n",
       " 'united tourist wonder super tide tide century french k coast http co gxdqortss',\n",
       " 'late flight united yeah sorry always problem united international reputation problem',\n",
       " 'united yall probably work',\n",
       " 'tell united maybe bbbne_sd_ks_ia would care hear went whoever listens issue caused',\n",
       " 'tell united wonder sharing fb insta would produce number character really limit story telling',\n",
       " 'flight attendant complaint united telling number call left airport negligent pilot staff',\n",
       " 'customer service issue united could email resent doesnt appear arrived',\n",
       " 'united yes please trying get pop newark',\n",
       " 'customer service issue united follow order dm come',\n",
       " 'bad flight united united coupon make broken entertainment system hour flight seriously ridiculousness learncustomerservice',\n",
       " 'lost luggage united drop bag overnight amp leaving week supposed hold bag',\n",
       " 'customer service issue united dm detail still response book today',\n",
       " 'united know probably way get cheaper airfare ticket flight leaving hour',\n",
       " 'united someone please explain process happens property found plane passenger leave heathrow',\n",
       " 'customer service issue united able dm confirmation number',\n",
       " 'late flight united sent message let know got twitter literate also really going stuck hr',\n",
       " 'customer service issue united unhappy response complaint emailed nd feb ref awful customer service',\n",
       " 'united dm work',\n",
       " 'united private jet would cool work try',\n",
       " 'flight booking problem united given option using united travelbank recent flight booking problem help using recouping fund thanks',\n",
       " 'late flight united common keep paper work ready delay flight meeting choosechicago',\n",
       " 'united yul ord',\n",
       " 'late flight united yep correct got email flight cancelled flightled matter flight atl delayed thx',\n",
       " 'late flight united problem getting fll iah sent dm making connection please let know',\n",
       " 'united done done',\n",
       " 'united thanks sent',\n",
       " 'cancelled flight united grounded montreal ua missing connection ua st louis help private jet',\n",
       " 'tell united frustrated nervous',\n",
       " 'flight attendant complaint united one make difficult',\n",
       " 'bad flight united child someone issue flying prepares ahead time reduce distress caused plane',\n",
       " 'cancelled flight united get cancelled flightled hour take',\n",
       " 'tell united always happens guy make traveling incredibly stressful uncomfortable good business',\n",
       " 'bad flight united someone severe anxiety one person help next',\n",
       " 'tell united seeking go client c cant get need refund filled form confident work past indication',\n",
       " 'thnx response united bot seems improvement could easily attained st class service really worth',\n",
       " 'united unrivalled access california flight uk airport nonstop one stop connection year round',\n",
       " 'united booked award tix thaiairways seeing conf united flight booking problem get get thai',\n",
       " 'customer service issue united luckily made flight time disappointed lack communication',\n",
       " 'cancelled flight united checking see flight atl ord got cancelled flighted',\n",
       " 'customer service issue united service far horrid wanted end trip high note guess option',\n",
       " 'bad flight united booked flight home month ago requested seat together fiancée got middle seat unacceptable',\n",
       " 'tell united guy horrible',\n",
       " 'united thnx info',\n",
       " 'customer service issue united pay wifi international business ticket pennypincher',\n",
       " 'lost luggage united ok top thing lost luggage could get worse unitedairlines',\n",
       " 'united kudos cancelled flightling flight dfw morning united usually first panic',\n",
       " 'damaged luggage united luggage broken youcouldntmakethis brokenwheel',\n",
       " 'united flight dfw ord currently time see advisory dfw may affected weather',\n",
       " 'tell united maybe one day one quoted http co mjkpgvxmpc',\n",
       " 'late flight united flight delayed one remembered turn heat flight leaving ord seriously',\n",
       " 'united another awesome new plane flight extremely nice captain steve connolly',\n",
       " 'customer service issue united speak real person get resolved politely efficiently',\n",
       " 'customer service issue united filed refund claim told charge dm disputed bank hence would like',\n",
       " 'lost luggage united bag make flight iad second day without clothes pretty inconvenient pretty curious unitedairlines',\n",
       " 'united every united flight saipan guam adventure never know capeair old plane operational',\n",
       " 'customer service issue united hence asking customer service phone number speak real person get sorted',\n",
       " 'lost luggage united bag leave washington yet would convenient seeing left day ago unitedairlines lostluggage',\n",
       " 'united flying st class one leg chicago long flight china still able use lounge chicago',\n",
       " 'customer service issue united according dm owed refund please may provided contact number go bank file claim',\n",
       " 'lost luggage united hour ago need work bag make hotel time need go elsewhere',\n",
       " 'united okay thank',\n",
       " 'united filed claim way calling update another way',\n",
       " 'customer service issue united pls properly train agent requested speak customer service amp transferred dead end even open hr',\n",
       " 'lost luggage united thanks remembering load bag onto connecting flight oh wait forgot iceland fun clothes',\n",
       " 'united thank cheese platter abundance entertainment option time flew',\n",
       " 'customer service issue united customer service atrocious disrupted travel plan lost luggage impossible talk human',\n",
       " 'customer service issue united terminal mia food open esp flight two hour early like recommended eat',\n",
       " 'late flight united ua flight currently stuck portland missed ride hour delay getmartyhome',\n",
       " 'customer service issue united responded various request contact number anyone know uk customer service number unitedairlines',\n",
       " 'lost luggage united looking getting bag lusaka',\n",
       " 'lost luggage united could update suitcase please online phone tracking told nothing told back yesterday',\n",
       " 'united thank trying two day set',\n",
       " 'tell united last thing guy charging drink transatlantic flight',\n",
       " 'tell united lhr arrival lounge fail waited min shower left find hotel know many passenger carry planning',\n",
       " 'united luck finalizing reservation dm information please let know else need want confirm asap thx',\n",
       " 'cancelled flight united completed form doubt use ua care day vacation sure ua feel responsibility',\n",
       " 'united definitely compliment really thought bag lost sent another airport end happy customer',\n",
       " 'united thanx much followed emailed ticket voucher unitedairlines care',\n",
       " 'united definitely trip remember ewr sti second season first seat pay loyal',\n",
       " 'flight attendant complaint united nope told u time go home sleep airport even though assured u would get room',\n",
       " 'united keep updated let know bag make flight burg',\n",
       " 'lost luggage united back expensive holiday worked year pay ruined want compensation amp original case back',\n",
       " 'lost luggage united thanks united understand would actually like bag back done also want money',\n",
       " 'customer service issue united frankly worse customer service ever problem happen deal defines company never united',\n",
       " 'late flight united still valid flight seems strange delay late flight inbound crew hour plane already',\n",
       " 'customer service issue united thanks lack help canned response desk',\n",
       " 'bad flight united bad ua another unforeseeable operational issue return flight',\n",
       " 'united would like know going current flight land',\n",
       " 'lost luggage united pay luggage delivered arrive wait additional day delivery',\n",
       " 'cancelled flight united hotel people feel like held hostage someone boarding pass leave fail',\n",
       " 'united one great airline',\n",
       " 'customer service issue united outbound bag lb bag returning home bag lb logic writing machine human help required',\n",
       " 'customer service issue lindaswc united like hear poor experience please share detail customer care team http co hisc ndmgz',\n",
       " 'late flight united cancelled flightn left u fend flt came late flight getting runaround hr employee blaming previous',\n",
       " 'united local united number malaysia local united airline kuala lumpur kul',\n",
       " 'lost luggage united okay ase find luggage',\n",
       " 'customer service issue united agent met u gate said issue delay ua would taken online',\n",
       " 'united send urgent message via eservice united com bg kwm narayanan please respond asap also local united tel kul',\n",
       " 'united thanks guy getting anytime soon',\n",
       " 'lost luggage united lady one phone say tel aviv tel aviv united say newark one know nothing',\n",
       " 'united melaniespring see kn running plane running thanks help',\n",
       " 'lost luggage united yes still answer many luggage day unacceptable',\n",
       " 'customer service issue united going nothing like always',\n",
       " 'united sent feedback thank',\n",
       " 'tell united plus food taxi',\n",
       " 'tell united offering u room people fail',\n",
       " 'flight attendant complaint united people getting pretty tired action solving problem plus missing day vacation skiing',\n",
       " 'customer service issue united bright side would keeping promise made hope good night thanks',\n",
       " 'united yes',\n",
       " 'customer service issue united take back comment team working hard help u far solution hotel food anything fail',\n",
       " 'late flight united arriving two hour late flight clt sitting tarmac move plane gate unhappy customer',\n",
       " 'tell united airline absolute worst idea neveragain unitedairlines',\n",
       " 'customer service issue united thanks might want fix line customer care team currently responding inquiry within business day',\n",
       " 'united flew united au austin bergstrom cancun intl best flight ever big small',\n",
       " 'flight booking problem united frustrating frequent flyer loyal since continental upgrade equal paying time top purchase ticket',\n",
       " 'united deep vein thrombosis',\n",
       " 'customer service issue united worse figure pack plane screw connectns claim hotl room san fran stranded pax way go',\n",
       " 'late flight united passenger hour delayed flight left hotel end night hou airport wtf http co zfqmpgxvs',\n",
       " 'late flight hey united flight iah po leave late flight one back iah early rather get po earlier',\n",
       " 'lost luggage united lost bag process broken agent promised call amp hold bag found waking delivery fail',\n",
       " 'cancelled flight united people counter helpful see nobody flight austin still sitting',\n",
       " 'united unfortunately still tarmac fly ohare definitely missing ride flypdx gonnabealongnight',\n",
       " 'customer service issue united darquenloveli regret hear please let u know need assistance kn finally able secure seat thx',\n",
       " 'united time check open flight ua manchester newark today',\n",
       " 'late flight united good know open closed door premier passenger safety briefing delayed flight annoyed',\n",
       " 'united dm sent',\n",
       " 'late flight united yea get phoenix already delay day people bullshit',\n",
       " 'late flight united consolation staff stellar hour delay encountered every one flight',\n",
       " 'united flight ua gate tell ray somehow made flight iah wait one',\n",
       " 'damaged luggage united unfortunate tumitravel xmas gift look like razor ripped right front pocket picture',\n",
       " 'united thanks asking',\n",
       " 'cancelled flight united lost bag cancelled flightled flight delhi call center poor united staff spread thin stressed name',\n",
       " 'lost luggage united yes make mistake le absurd change fact inconveniently missing luggage tonight',\n",
       " 'tell united constantly challenge upgrade amp charge order prevent dvt pay addtl http co xc jq b',\n",
       " 'flight attendant complaint united ord waited min crew member left gate item came flight attendant sarcastically said good luck walked away',\n",
       " 'united follow back please happily dm link rather share travel plan publicly',\n",
       " 'united',\n",
       " 'united favorite airline',\n",
       " 'tell united seriously fail making stranger share room',\n",
       " 'united luke_mcintosh nah',\n",
       " 'lost luggage united needed asap make today flight',\n",
       " 'customer service issue united agent split reservation cancelled flight refund credit wks',\n",
       " 'united vacation going ruined day rain change fee u nearly cost original flight help',\n",
       " 'united sent message let know asap',\n",
       " 'flight attendant complaint united would make share room',\n",
       " 'customer service issue united tried calling min phn wait mean miss option anyway',\n",
       " 'late flight united ask guy flight bwi wait u get delayed flight san diego pretty please',\n",
       " 'customer service issue united still waiting find rep working hard upset wait tomorrow pm get mammoth',\n",
       " 'cancelled flight united early flt think call appropriate yes reviewed nada avail next day expect full refund',\n",
       " 'united understand thanks',\n",
       " 'customer service issue united ask call get fixed tweeting b question stall make thing worse phone number please',\n",
       " 'late flight united yo yo yo stuck tarmac hour fly ohare going miss ride flypdx help please helpimstuck united',\n",
       " 'customer service issue united highly unprofessional overbook flight seat amp feel rearrange schedule mismanagement',\n",
       " 'flight attendant complaint united well considering every agent claimed unable help everything else waste time hear call corp',\n",
       " 'united man wait book ticket thanks jp life sabe',\n",
       " 'cancelled flight united ice totally understand large number u facing hour time overnight cancelled flightations seems like',\n",
       " 'cancelled flight united flt cancelled flightled get email happened courtesy phn call book diff airline amp city',\n",
       " 'lost luggage united tag number let find bag',\n",
       " 'customer service issue united better train support staff appropriate decorum consider revisiting terrible provide death certificate policy',\n",
       " 'tell united well bar set low guy really good apology game change guy learn',\n",
       " 'united post disappointment frequent united flyer simple bad apple spoil bunch',\n",
       " 'united guy continue impress houston http co cih qnllcm',\n",
       " 'customer service issue united way making phone call need handle via twitter email web thank',\n",
       " 'united please help ethiopia adopting two year old child existing confirmation need add child reservation',\n",
       " 'united question onboad volt outlet plane',\n",
       " 'tell united website deserves new design html ftw',\n",
       " 'lost luggage united thanks effing holiday missing full day skiing due baggage team incompetence flyyow',\n",
       " 'united twitter letting dm',\n",
       " 'united hope',\n",
       " 'customer service issue united agent help person front finish walk away guy behind shocked',\n",
       " 'lost luggage united connection ord exact plane checked carry apparently taken amp left chicago pretty ridiculous',\n",
       " 'lost luggage united encouraged cpap tonight',\n",
       " 'lost luggage united yes file claim soon carousel stopped without bag got email found sched delivery',\n",
       " 'united idea monitor mileage member travel pattern enough know change job lose status make transition easier',\n",
       " 'late flight united delay den cle manually enter baggage tag really worst cust service day ker friendlyskies',\n",
       " 'flight attendant complaint united tell u flight delayed tell u time min spare say delayed unless sure',\n",
       " 'lost luggage united yes lusaka zambia guess bag never made plane iad',\n",
       " 'united flight voucher',\n",
       " 'late flight united late flight denver late flight newark let even get disaster checking bag unacceptable',\n",
       " 'tell united let think ever flown problem worst airline period',\n",
       " 'lost luggage united yes filed claim amp hope receive luggage ridiculous purchase item go sleep amp reimbursement',\n",
       " 'bad flight united ua ord lhr bag loaded min late flight frigid air cabin plane feel like falling apart upgrade long haul fleet',\n",
       " 'flight attendant complaint united flight attendant never served beverage tea checked give ua notcool',\n",
       " 'tell united load balancing system apparently systemwide major impact united airline flight cyberattack',\n",
       " 'late flight united unscheduled refueling stop missing connecting flight home looking ward bed big pb amp sandwich',\n",
       " 'tell united americanair spent hundred rectify situation guy go quiet',\n",
       " 'late flight united ua sitting ewr nearly hour sked pilot say computer clue leave help',\n",
       " 'tell united americanair end come traveled literally extra day half',\n",
       " 'united made upgrade list fly st tomorrow min first time ever statusmatchpaidoff http co atfrkp goy',\n",
       " 'united refunded u vacation get free room night make making u sleep dia',\n",
       " 'united thanks reminder fun ride http co ppva rch f',\n",
       " 'damaged luggage united received luggage also looked left snow arrived asking people refunded',\n",
       " 'bad flight united updated aircraft wifi device entertainment outlet get charge device',\n",
       " 'customer service issue united one scan inside plane asked people line around plane going',\n",
       " 'late flight united gate change two delay even crew think airline suck',\n",
       " 'cancelled flight united frustrated wasted day due equipment failure',\n",
       " 'customer service issue united computer stopped giving update took flight info app ridiculous keep people updated',\n",
       " 'customer service issue united soooo day offered response assume poor treatment gate agent norm',\n",
       " 'united terrific many thanks looking forward back ua tomorrow great flight vancouver',\n",
       " 'customer service issue united call resulted hr hold time amp day wait check suspect code share fare nothing investigated time wasted',\n",
       " 'customer service issue united taken week cust care respond case requesting refund wi fi working get update',\n",
       " 'united appreciate effort getting home',\n",
       " 'flight booking problem united correct spent hour trying book online receive error clicking final purchase button',\n",
       " 'late flight united today finest could prevented one gate agent advising passenger',\n",
       " 'late flight united real deal delay flight ua denver vega',\n",
       " 'flight attendant complaint united ua madrid arrived agent mass confusion sent fro ua employee maryjo rude unhelpful',\n",
       " 'bad flight united system failure bad trend software project like flying airplane thing emergency takeoff',\n",
       " 'late flight united lot report system failure delaying flight last week currently sitting tarmac ogg hour',\n",
       " 'united rebooting chicago dispatch system need pivotalcf tired sitting plane',\n",
       " 'united despite shaky connection look like get home tonight great job united touch go',\n",
       " 'customer service issue united http co hj kq chn however completely control price still displayed http co hj kq chn',\n",
       " 'united aircraft closest gate flight one closest gate going chicago',\n",
       " 'lost luggage united tell file claim clothing purchased',\n",
       " 'tell united comically return flight ase two united flight boarding adjacent gate clear plane board',\n",
       " 'lost luggage united grk file reference',\n",
       " 'customer service issue united would contact discus poor experience customer service would give shot',\n",
       " 'bad flight united ua pacific rim date night cut constantly randomly one spot repeatably',\n",
       " 'tell united trying since file report',\n",
       " 'customer service issue united send email bad experience send back generic response yet another reason never fly',\n",
       " 'united mom left kindle flight today burgundy case light seat anyone find',\n",
       " 'flight booking problem united ticket please refund unnecessary upgrade fee',\n",
       " 'bad flight united horrible lost carseat expect u use loner carseat safety regulation say illegal use used car seat',\n",
       " 'united thank',\n",
       " 'decision decision mandarinjourney united love try service offer status match http co xbqqqbrgvf kp',\n",
       " 'need info united momsgoodeats great amenity kit pj included status match aa kp',\n",
       " 'flight booking problem united care thehipmunk link showed wrong price site site amp responsibility ensure correctness',\n",
       " 'united flight lie flat seating stl pdx around date march',\n",
       " 'cancelled flight united need get home th telling th night compensation anything done',\n",
       " 'tell united mllovelace baggage fee waived premier member please see http co duw mde jp point membership',\n",
       " 'lost luggage united wonderful bag claim people finally bag catch earlier flight original flight landed wastedtime',\n",
       " 'tell united dmed thank',\n",
       " 'united thanks touch',\n",
       " 'united thanks karen salisbury iah amazing customer service found daughter bag lost ua made day',\n",
       " 'lost luggage united day late flightr bag left iad united helping everyone tell different story',\n",
       " 'united renoairport hi direct flight houston reno begin see day march',\n",
       " 'united like continental chicken feat fair',\n",
       " 'united assist current flight status flt dfw tomorrow',\n",
       " 'united left comment customer care thanks contacting',\n",
       " 'lost luggage united lose gate checked bag den ord direct flight ugh',\n",
       " 'lost luggage united caught earlier flight ord gate checked bag lost hare original flight land minute frustrating',\n",
       " 'yes thanks much united whitterbug see spoke reservation team reinstated flight thanks ey',\n",
       " 'united captain behalf front office welcome board never heard laughed hard funnycaptain',\n",
       " 'lost luggage united please follow dm missing bag',\n",
       " 'united clear luggage comment referencing photo attached flight jac http co pnbajfkmhg',\n",
       " 'united great fare',\n",
       " 'customer service issue united left item plane calling non stop one answering please help',\n",
       " 'united awesome book next christmas vacatinn december way want devalue mileage plus',\n",
       " 'lost luggage united good number call speak someone fix people luggage saturday',\n",
       " 'united thank secured room night thx helpful customer service rep dorns thanked goodenoughmother',\n",
       " 'lost luggage united damn bag',\n",
       " 'lost luggage united well someone tell employee denver baggage claim still bag',\n",
       " 'united greeting ua club member idea use air canada lounge yvr flying ua tomorrow',\n",
       " 'united mexico international u',\n",
       " 'customer service issue united diverted missed connecting flight told bag way msy people cared',\n",
       " 'flight attendant complaint united male agnt la threatens canadian cust cust take pic gate agent announce help rebook friendlyskies',\n",
       " 'cancelled flight united apollochplayers want go home tonight cancelled flight last leg reserv permission ph rps',\n",
       " 'customer service issue united stressed rude agent overwhelmed delyd flight la den yelling several people pretty friendlyskies',\n",
       " 'bad flight united landed boston last night hour traveling rough tho',\n",
       " 'cancelled flight united fail cancelled flightled flight frm gjt used reserv home iah sea reflight booking problem permission ph rps',\n",
       " 'sent thank rt united goodenufmother please dm confirmation number reflight booking problem needed thank ey',\n",
       " 'late flight united made fly list airline wait connector late flight stuck iah',\n",
       " 'united deal provide voucher overnight cozy floor ohare gross helpmeplease anyonethere',\n",
       " 'customer service issue united also mere fact go online issue statement vice calling talking directly one good example',\n",
       " 'united thank flew newark vail eagle',\n",
       " 'customer service issue united weekend dealing company would say otherwise',\n",
       " 'bad flight united http co hpsqvrjk flight gone got plane businesstravel goodenoughmother',\n",
       " 'lost luggage united proper response sorry wait flight look issue delta would handle',\n",
       " 'customer service issue united customer service terrible stood inline hour flight hour late flightr still bag disgutedindenver',\n",
       " 'united please upload march demand entertainment listing website',\n",
       " 'customer service issue united inadequate accident',\n",
       " 'united reebok rockinwellness denver international airport http co tkvmhbkec',\n",
       " 'united thank responding quickly helpful tool dustyob',\n",
       " 'customer service issue united boarding time show min gate agent started showed check bag http co zcbjyo lsn',\n",
       " 'flight attendant complaint united agent la letting customer know help rebook delayed flight den unfriendlyskies http co quzvmk rtr',\n",
       " 'bad flight united empathizes disappointment stclass flight nonworking entertainmnt worth unfriendlyskies http co loeco gmvd',\n",
       " 'customer service issue united work',\n",
       " 'united seen message today mcdonnell douglas dc model hear read goodnight',\n",
       " 'flight booking problem united searched mileage ticket bom find single one saver award see play earn mile use',\n",
       " 'lost luggage united flight arrives minute early wait hour bag',\n",
       " 'lost luggage united issue fact one even called despite promise confirm bag location',\n",
       " 'united girl gotta get flight name change bought one mean ex boyfriend need girl trip stat',\n",
       " 'united thank signed notification shall watch wait',\n",
       " 'tell united still waiting hear back wallet stolen one plane would appreciate resolution',\n",
       " 'united would love someone could get back austin tonight wish wait til tomorrow morning',\n",
       " 'lost luggage united flysaa lost baggage heard different thing different employee united flysaa said nothing',\n",
       " 'bad flight united c think mile repair damage done interesting travel united exp worst flight ever',\n",
       " 'united flight dfw tuesday far advance give notice cancelled flightled',\n",
       " 'customer service issue united signed notification first trip updated sure happened',\n",
       " 'united thank took care everything made right experience used opened app find flight changed',\n",
       " 'flight booking problem united line response waiting tomorrow morning flight overbooked',\n",
       " 'customer service issue united took exact aircraft lax day ago fit problem agent today told nonsense policy change',\n",
       " 'tell united helpful agent club helped baggage fee night life stop business silverairways',\n",
       " 'tell united never heard http co qdebyahqfm',\n",
       " 'flight booking problem southwestair charge ticket change fee incur mysterious cost incur united',\n",
       " 'cancelled flight united exhausted amp frustrated link fb post abt travel issue http co larkc vc',\n",
       " 'flight attendant complaint united denied getting plane getting chance prove fit rookie read bio',\n",
       " 'united exactly point fit premier access boarding group return ticket yr',\n",
       " 'customer service issue united never experienced worst customer service placing blame codeshare partner assuming responsibility unacceptable',\n",
       " 'flight attendant complaint united currently board check terrible staff rude expensive luggage thrown around etc',\n",
       " 'cancelled flight united fucked voided ticket kept money even apology never fly airline unitedairlines',\n",
       " 'customer service issue united worst customer svcs kevin rep call center must investigated baggage lost help argument',\n",
       " 'customer service issue united sell ticket silverairways http co onhxhco bk terrible service ua staff cannot reach silver',\n",
       " 'tell united got demoted gold cuz hubby got pqd tho enuf spent gold spousal discrimination angry',\n",
       " 'united thank',\n",
       " 'united direct flight belfast intl newark resume winter break thanks',\n",
       " 'united favorite way travel thank http co vgn ckg',\n",
       " 'united yes awful weather appears get home',\n",
       " 'customer service issue united yes lot terrible customer service newark despite raising complaint ignored hence tweet',\n",
       " 'bad flight united lovely new plane lga ord power outlet',\n",
       " 'lost luggage united tweet id number reveal home address anyone web',\n",
       " 'cancelled flight united filed delayed bag report saturday flight cancelled flightled never went anywhere',\n",
       " 'united person currently bettween gate lax',\n",
       " 'flight attendant complaint united need land ewr baggage claim file sent employee droppeditoffyet',\n",
       " 'tell united rarely cease amaze worse hope last time fly',\n",
       " 'united thank quick response cannot dm follow well',\n",
       " 'tell united icloud yet please help',\n",
       " 'united need phone number baggage claim lax mom left phone someone called saying would put',\n",
       " 'customer service issue united response back',\n",
       " 'customer service issue united atrocious customer service',\n",
       " 'united honor absurdly low mistake fare http co jv ilw vía usatoday',\n",
       " 'late flight united albanyairport delayed departure check bag gate claiming space filled walk open space delay poorcustomerservice',\n",
       " 'cancelled flight united cancelled flighted flight reason amp phone hour vacation',\n",
       " 'customer service issue united dfpietra response shaking head back forth tsk better customer service apology',\n",
       " 'united thanks k mile rtb europe multiple destination could stop u way way back mileage diff',\n",
       " 'lost luggage united course bag frustrated',\n",
       " 'tell united worst avoid like plague',\n",
       " 'tell united worst airline world',\n",
       " 'customer service issue united someone need dm resolve correctly extremely disappointed service received terrible management',\n",
       " 'customer service issue united premier gold desk change flight waif fee give wrong flight jana acosta salt lake refuse service angry',\n",
       " 'tell united give one thing consistent unfortunately consistent job well alwaysdelayedonunited',\n",
       " 'tell united right angry',\n",
       " 'tell united first time flying united also last time terrible back virginatlantic branson virginatlantic unitedairlines',\n",
       " 'tell united used committed continentalairlines flyer merger remember switched southwestair communicationfail',\n",
       " 'bad flight united least could offer ticket coach instead cancelled flighting reservation glitch notfair',\n",
       " 'longlines united saying made flight poor non communication unaccounted lost time amp lot frustrated flyer standing around',\n",
       " 'tell united think dm would better',\n",
       " 'late flight united gate announcement state delay due maintenance yet app say late flight arriving aircraft tell truth unfriendly',\n",
       " 'lost luggage united easily worst company ever experienced lost someone personal possession amp care le',\n",
       " 'late flight united app show arriving aircraft early departing flight delayed due late flight arriving aircraft unfriendly',\n",
       " 'lost luggage united already airport hr late flightr still guy really killing today trying stay positive',\n",
       " 'tell united united service level reach etihad let realistically lufthansa ill consider',\n",
       " 'late flight united really someone called sick someone forgot call replacement hour late flight take theworst',\n",
       " 'flight attendant complaint united asked flight attendant typical compensation would amp say might get free tv unacceptable',\n",
       " 'united done',\n",
       " 'united thank jh appreciate prompt response passenger',\n",
       " 'late flight united disappointment today simply put rather unpleased thing currently flight delayed cant wait get home',\n",
       " 'flight attendant complaint united round trip non english speaking friend stranded twice hour time staff member rude',\n",
       " 'tell united found group people actually hate people isi thats right united airline',\n",
       " 'customer service issue united nope walked amp orf terminal amp united agent found showed last minute board u many panicked people',\n",
       " 'united thank',\n",
       " 'late flight united time finally get dallas could driven le frustration cheaper',\n",
       " 'late flight united trying get final destination need compensation hr personal time wasted',\n",
       " 'customer service issue united guy really customer service clue could spent effort clearing bin rollerboards instead art project mine',\n",
       " 'united priority iove',\n",
       " 'united pleased premier platinum',\n",
       " ...]"
      ]
     },
     "execution_count": 13,
     "metadata": {},
     "output_type": "execute_result"
    }
   ],
   "source": [
    "processed_features"
   ]
  },
  {
   "cell_type": "code",
   "execution_count": 14,
   "metadata": {},
   "outputs": [
    {
     "data": {
      "text/plain": [
       "array(['neutral', 'positive', 'neutral', ..., 'neutral', 'negative',\n",
       "       'neutral'], dtype=object)"
      ]
     },
     "execution_count": 14,
     "metadata": {},
     "output_type": "execute_result"
    }
   ],
   "source": [
    "labels = df.iloc[:, 1].values\n",
    "labels"
   ]
  },
  {
   "cell_type": "code",
   "execution_count": 15,
   "metadata": {},
   "outputs": [],
   "source": [
    "from sklearn.feature_extraction.text import CountVectorizer \n",
    "from sklearn.feature_extraction.text import TfidfVectorizer"
   ]
  },
  {
   "cell_type": "code",
   "execution_count": 16,
   "metadata": {},
   "outputs": [],
   "source": [
    "from sklearn.feature_extraction.text import TfidfVectorizer\n",
    "vectorizer = TfidfVectorizer (max_features=2500, min_df=7, max_df=0.8)\n",
    "processed_features = vectorizer.fit_transform(processed_features).toarray()"
   ]
  },
  {
   "cell_type": "code",
   "execution_count": 17,
   "metadata": {},
   "outputs": [
    {
     "data": {
      "text/plain": [
       "(14640, 2115)"
      ]
     },
     "execution_count": 17,
     "metadata": {},
     "output_type": "execute_result"
    }
   ],
   "source": [
    "processed_features.shape"
   ]
  },
  {
   "cell_type": "code",
   "execution_count": 172,
   "metadata": {},
   "outputs": [],
   "source": [
    "from sklearn.model_selection import train_test_split\n",
    "\n",
    "X_train, X_test, y_train, y_test = train_test_split(processed_features, labels, test_size=0.2, random_state=0)"
   ]
  },
  {
   "cell_type": "code",
   "execution_count": 173,
   "metadata": {},
   "outputs": [
    {
     "data": {
      "text/plain": [
       "RandomForestClassifier(n_estimators=200, random_state=0)"
      ]
     },
     "execution_count": 173,
     "metadata": {},
     "output_type": "execute_result"
    }
   ],
   "source": [
    "from sklearn.ensemble import RandomForestClassifier\n",
    "\n",
    "text_classifier = RandomForestClassifier(n_estimators=200, random_state=0)\n",
    "text_classifier.fit(X_train, y_train)"
   ]
  },
  {
   "cell_type": "code",
   "execution_count": 176,
   "metadata": {},
   "outputs": [],
   "source": [
    "predictions=text_classifier.predict(X_test)"
   ]
  },
  {
   "cell_type": "code",
   "execution_count": 177,
   "metadata": {},
   "outputs": [
    {
     "name": "stdout",
     "output_type": "stream",
     "text": [
      "[[1868    1    1]\n",
      " [  50  512   52]\n",
      " [  37  122  285]]\n",
      "              precision    recall  f1-score   support\n",
      "\n",
      "    negative       0.96      1.00      0.98      1870\n",
      "     neutral       0.81      0.83      0.82       614\n",
      "    positive       0.84      0.64      0.73       444\n",
      "\n",
      "    accuracy                           0.91      2928\n",
      "   macro avg       0.87      0.82      0.84      2928\n",
      "weighted avg       0.91      0.91      0.91      2928\n",
      "\n",
      "0.9101775956284153\n"
     ]
    }
   ],
   "source": [
    "from sklearn.metrics import classification_report, confusion_matrix, accuracy_score\n",
    "\n",
    "print(confusion_matrix(y_test,predictions))\n",
    "print(classification_report(y_test,predictions))\n",
    "print(accuracy_score(y_test, predictions))"
   ]
  },
  {
   "cell_type": "code",
   "execution_count": 183,
   "metadata": {},
   "outputs": [],
   "source": [
    "test_y=pd.DataFrame(y_test)"
   ]
  },
  {
   "cell_type": "code",
   "execution_count": 185,
   "metadata": {},
   "outputs": [
    {
     "data": {
      "text/html": [
       "<div>\n",
       "<style scoped>\n",
       "    .dataframe tbody tr th:only-of-type {\n",
       "        vertical-align: middle;\n",
       "    }\n",
       "\n",
       "    .dataframe tbody tr th {\n",
       "        vertical-align: top;\n",
       "    }\n",
       "\n",
       "    .dataframe thead th {\n",
       "        text-align: right;\n",
       "    }\n",
       "</style>\n",
       "<table border=\"1\" class=\"dataframe\">\n",
       "  <thead>\n",
       "    <tr style=\"text-align: right;\">\n",
       "      <th></th>\n",
       "      <th>0</th>\n",
       "    </tr>\n",
       "  </thead>\n",
       "  <tbody>\n",
       "    <tr>\n",
       "      <th>0</th>\n",
       "      <td>negative</td>\n",
       "    </tr>\n",
       "    <tr>\n",
       "      <th>1</th>\n",
       "      <td>negative</td>\n",
       "    </tr>\n",
       "    <tr>\n",
       "      <th>2</th>\n",
       "      <td>negative</td>\n",
       "    </tr>\n",
       "    <tr>\n",
       "      <th>3</th>\n",
       "      <td>negative</td>\n",
       "    </tr>\n",
       "    <tr>\n",
       "      <th>4</th>\n",
       "      <td>negative</td>\n",
       "    </tr>\n",
       "    <tr>\n",
       "      <th>5</th>\n",
       "      <td>neutral</td>\n",
       "    </tr>\n",
       "    <tr>\n",
       "      <th>6</th>\n",
       "      <td>negative</td>\n",
       "    </tr>\n",
       "    <tr>\n",
       "      <th>7</th>\n",
       "      <td>negative</td>\n",
       "    </tr>\n",
       "    <tr>\n",
       "      <th>8</th>\n",
       "      <td>negative</td>\n",
       "    </tr>\n",
       "    <tr>\n",
       "      <th>9</th>\n",
       "      <td>negative</td>\n",
       "    </tr>\n",
       "    <tr>\n",
       "      <th>10</th>\n",
       "      <td>neutral</td>\n",
       "    </tr>\n",
       "    <tr>\n",
       "      <th>11</th>\n",
       "      <td>negative</td>\n",
       "    </tr>\n",
       "    <tr>\n",
       "      <th>12</th>\n",
       "      <td>neutral</td>\n",
       "    </tr>\n",
       "    <tr>\n",
       "      <th>13</th>\n",
       "      <td>negative</td>\n",
       "    </tr>\n",
       "    <tr>\n",
       "      <th>14</th>\n",
       "      <td>negative</td>\n",
       "    </tr>\n",
       "    <tr>\n",
       "      <th>15</th>\n",
       "      <td>negative</td>\n",
       "    </tr>\n",
       "    <tr>\n",
       "      <th>16</th>\n",
       "      <td>positive</td>\n",
       "    </tr>\n",
       "    <tr>\n",
       "      <th>17</th>\n",
       "      <td>neutral</td>\n",
       "    </tr>\n",
       "    <tr>\n",
       "      <th>18</th>\n",
       "      <td>negative</td>\n",
       "    </tr>\n",
       "    <tr>\n",
       "      <th>19</th>\n",
       "      <td>negative</td>\n",
       "    </tr>\n",
       "  </tbody>\n",
       "</table>\n",
       "</div>"
      ],
      "text/plain": [
       "           0\n",
       "0   negative\n",
       "1   negative\n",
       "2   negative\n",
       "3   negative\n",
       "4   negative\n",
       "5    neutral\n",
       "6   negative\n",
       "7   negative\n",
       "8   negative\n",
       "9   negative\n",
       "10   neutral\n",
       "11  negative\n",
       "12   neutral\n",
       "13  negative\n",
       "14  negative\n",
       "15  negative\n",
       "16  positive\n",
       "17   neutral\n",
       "18  negative\n",
       "19  negative"
      ]
     },
     "execution_count": 185,
     "metadata": {},
     "output_type": "execute_result"
    }
   ],
   "source": [
    "test_y.head(20)"
   ]
  },
  {
   "cell_type": "code",
   "execution_count": 186,
   "metadata": {},
   "outputs": [
    {
     "data": {
      "text/html": [
       "<div>\n",
       "<style scoped>\n",
       "    .dataframe tbody tr th:only-of-type {\n",
       "        vertical-align: middle;\n",
       "    }\n",
       "\n",
       "    .dataframe tbody tr th {\n",
       "        vertical-align: top;\n",
       "    }\n",
       "\n",
       "    .dataframe thead th {\n",
       "        text-align: right;\n",
       "    }\n",
       "</style>\n",
       "<table border=\"1\" class=\"dataframe\">\n",
       "  <thead>\n",
       "    <tr style=\"text-align: right;\">\n",
       "      <th></th>\n",
       "      <th>0</th>\n",
       "    </tr>\n",
       "  </thead>\n",
       "  <tbody>\n",
       "    <tr>\n",
       "      <th>0</th>\n",
       "      <td>negative</td>\n",
       "    </tr>\n",
       "    <tr>\n",
       "      <th>1</th>\n",
       "      <td>negative</td>\n",
       "    </tr>\n",
       "    <tr>\n",
       "      <th>2</th>\n",
       "      <td>negative</td>\n",
       "    </tr>\n",
       "    <tr>\n",
       "      <th>3</th>\n",
       "      <td>negative</td>\n",
       "    </tr>\n",
       "    <tr>\n",
       "      <th>4</th>\n",
       "      <td>negative</td>\n",
       "    </tr>\n",
       "    <tr>\n",
       "      <th>5</th>\n",
       "      <td>negative</td>\n",
       "    </tr>\n",
       "    <tr>\n",
       "      <th>6</th>\n",
       "      <td>negative</td>\n",
       "    </tr>\n",
       "    <tr>\n",
       "      <th>7</th>\n",
       "      <td>negative</td>\n",
       "    </tr>\n",
       "    <tr>\n",
       "      <th>8</th>\n",
       "      <td>negative</td>\n",
       "    </tr>\n",
       "    <tr>\n",
       "      <th>9</th>\n",
       "      <td>negative</td>\n",
       "    </tr>\n",
       "    <tr>\n",
       "      <th>10</th>\n",
       "      <td>neutral</td>\n",
       "    </tr>\n",
       "    <tr>\n",
       "      <th>11</th>\n",
       "      <td>negative</td>\n",
       "    </tr>\n",
       "    <tr>\n",
       "      <th>12</th>\n",
       "      <td>neutral</td>\n",
       "    </tr>\n",
       "    <tr>\n",
       "      <th>13</th>\n",
       "      <td>negative</td>\n",
       "    </tr>\n",
       "    <tr>\n",
       "      <th>14</th>\n",
       "      <td>negative</td>\n",
       "    </tr>\n",
       "    <tr>\n",
       "      <th>15</th>\n",
       "      <td>negative</td>\n",
       "    </tr>\n",
       "    <tr>\n",
       "      <th>16</th>\n",
       "      <td>positive</td>\n",
       "    </tr>\n",
       "    <tr>\n",
       "      <th>17</th>\n",
       "      <td>neutral</td>\n",
       "    </tr>\n",
       "    <tr>\n",
       "      <th>18</th>\n",
       "      <td>negative</td>\n",
       "    </tr>\n",
       "    <tr>\n",
       "      <th>19</th>\n",
       "      <td>negative</td>\n",
       "    </tr>\n",
       "  </tbody>\n",
       "</table>\n",
       "</div>"
      ],
      "text/plain": [
       "           0\n",
       "0   negative\n",
       "1   negative\n",
       "2   negative\n",
       "3   negative\n",
       "4   negative\n",
       "5   negative\n",
       "6   negative\n",
       "7   negative\n",
       "8   negative\n",
       "9   negative\n",
       "10   neutral\n",
       "11  negative\n",
       "12   neutral\n",
       "13  negative\n",
       "14  negative\n",
       "15  negative\n",
       "16  positive\n",
       "17   neutral\n",
       "18  negative\n",
       "19  negative"
      ]
     },
     "execution_count": 186,
     "metadata": {},
     "output_type": "execute_result"
    }
   ],
   "source": [
    "y_pred=pd.DataFrame(predictions)\n",
    "y_pred.head(20)"
   ]
  },
  {
   "cell_type": "code",
   "execution_count": 190,
   "metadata": {},
   "outputs": [
    {
     "name": "stderr",
     "output_type": "stream",
     "text": [
      "C:\\Users\\djroc\\anaconda3\\lib\\site-packages\\xgboost\\sklearn.py:892: UserWarning: The use of label encoder in XGBClassifier is deprecated and will be removed in a future release. To remove this warning, do the following: 1) Pass option use_label_encoder=False when constructing XGBClassifier object; and 2) Encode your labels (y) as integers starting with 0, i.e. 0, 1, 2, ..., [num_class - 1].\n",
      "  warnings.warn(label_encoder_deprecation_msg, UserWarning)\n"
     ]
    },
    {
     "name": "stdout",
     "output_type": "stream",
     "text": [
      "[22:27:02] WARNING: C:/Users/Administrator/workspace/xgboost-win64_release_1.3.0/src/learner.cc:1061: Starting in XGBoost 1.3.0, the default evaluation metric used with the objective 'multi:softprob' was changed from 'merror' to 'mlogloss'. Explicitly set eval_metric if you'd like to restore the old behavior.\n",
      "              precision    recall  f1-score   support\n",
      "\n",
      "    negative       0.98      1.00      0.99      1870\n",
      "     neutral       0.82      0.86      0.83       614\n",
      "    positive       0.82      0.71      0.76       444\n",
      "\n",
      "    accuracy                           0.93      2928\n",
      "   macro avg       0.87      0.86      0.86      2928\n",
      "weighted avg       0.92      0.93      0.92      2928\n",
      "\n"
     ]
    }
   ],
   "source": [
    "xgb=XGBClassifier()\n",
    "xgb.fit(X_train, y_train)\n",
    "predictions=xgb.predict(X_test)\n",
    "print(confusion_matrix(y_test,predictions))\n",
    "print(classification_report(y_test,predictions))\n",
    "print(accuracy_score(y_test, predictions))"
   ]
  },
  {
   "cell_type": "code",
   "execution_count": 191,
   "metadata": {},
   "outputs": [
    {
     "name": "stdout",
     "output_type": "stream",
     "text": [
      "0.9252049180327869\n"
     ]
    }
   ],
   "source": [
    "print(accuracy_score(y_test, predictions))"
   ]
  },
  {
   "cell_type": "code",
   "execution_count": 236,
   "metadata": {
    "scrolled": true
   },
   "outputs": [
    {
     "data": {
      "text/html": [
       "<div>\n",
       "<style scoped>\n",
       "    .dataframe tbody tr th:only-of-type {\n",
       "        vertical-align: middle;\n",
       "    }\n",
       "\n",
       "    .dataframe tbody tr th {\n",
       "        vertical-align: top;\n",
       "    }\n",
       "\n",
       "    .dataframe thead th {\n",
       "        text-align: right;\n",
       "    }\n",
       "</style>\n",
       "<table border=\"1\" class=\"dataframe\">\n",
       "  <thead>\n",
       "    <tr style=\"text-align: right;\">\n",
       "      <th></th>\n",
       "      <th>0</th>\n",
       "    </tr>\n",
       "  </thead>\n",
       "  <tbody>\n",
       "    <tr>\n",
       "      <th>80</th>\n",
       "      <td>negative</td>\n",
       "    </tr>\n",
       "    <tr>\n",
       "      <th>81</th>\n",
       "      <td>negative</td>\n",
       "    </tr>\n",
       "    <tr>\n",
       "      <th>82</th>\n",
       "      <td>negative</td>\n",
       "    </tr>\n",
       "    <tr>\n",
       "      <th>83</th>\n",
       "      <td>negative</td>\n",
       "    </tr>\n",
       "    <tr>\n",
       "      <th>84</th>\n",
       "      <td>negative</td>\n",
       "    </tr>\n",
       "    <tr>\n",
       "      <th>85</th>\n",
       "      <td>neutral</td>\n",
       "    </tr>\n",
       "    <tr>\n",
       "      <th>86</th>\n",
       "      <td>negative</td>\n",
       "    </tr>\n",
       "    <tr>\n",
       "      <th>87</th>\n",
       "      <td>neutral</td>\n",
       "    </tr>\n",
       "    <tr>\n",
       "      <th>88</th>\n",
       "      <td>negative</td>\n",
       "    </tr>\n",
       "    <tr>\n",
       "      <th>89</th>\n",
       "      <td>positive</td>\n",
       "    </tr>\n",
       "    <tr>\n",
       "      <th>90</th>\n",
       "      <td>neutral</td>\n",
       "    </tr>\n",
       "    <tr>\n",
       "      <th>91</th>\n",
       "      <td>neutral</td>\n",
       "    </tr>\n",
       "    <tr>\n",
       "      <th>92</th>\n",
       "      <td>positive</td>\n",
       "    </tr>\n",
       "    <tr>\n",
       "      <th>93</th>\n",
       "      <td>negative</td>\n",
       "    </tr>\n",
       "    <tr>\n",
       "      <th>94</th>\n",
       "      <td>positive</td>\n",
       "    </tr>\n",
       "    <tr>\n",
       "      <th>95</th>\n",
       "      <td>neutral</td>\n",
       "    </tr>\n",
       "    <tr>\n",
       "      <th>96</th>\n",
       "      <td>negative</td>\n",
       "    </tr>\n",
       "    <tr>\n",
       "      <th>97</th>\n",
       "      <td>neutral</td>\n",
       "    </tr>\n",
       "    <tr>\n",
       "      <th>98</th>\n",
       "      <td>negative</td>\n",
       "    </tr>\n",
       "    <tr>\n",
       "      <th>99</th>\n",
       "      <td>negative</td>\n",
       "    </tr>\n",
       "  </tbody>\n",
       "</table>\n",
       "</div>"
      ],
      "text/plain": [
       "           0\n",
       "80  negative\n",
       "81  negative\n",
       "82  negative\n",
       "83  negative\n",
       "84  negative\n",
       "85   neutral\n",
       "86  negative\n",
       "87   neutral\n",
       "88  negative\n",
       "89  positive\n",
       "90   neutral\n",
       "91   neutral\n",
       "92  positive\n",
       "93  negative\n",
       "94  positive\n",
       "95   neutral\n",
       "96  negative\n",
       "97   neutral\n",
       "98  negative\n",
       "99  negative"
      ]
     },
     "execution_count": 236,
     "metadata": {},
     "output_type": "execute_result"
    }
   ],
   "source": [
    "#test_y=pd.DataFrame(y_test)\n",
    "test_y[80:100]"
   ]
  },
  {
   "cell_type": "code",
   "execution_count": 235,
   "metadata": {
    "scrolled": true
   },
   "outputs": [
    {
     "data": {
      "text/html": [
       "<div>\n",
       "<style scoped>\n",
       "    .dataframe tbody tr th:only-of-type {\n",
       "        vertical-align: middle;\n",
       "    }\n",
       "\n",
       "    .dataframe tbody tr th {\n",
       "        vertical-align: top;\n",
       "    }\n",
       "\n",
       "    .dataframe thead th {\n",
       "        text-align: right;\n",
       "    }\n",
       "</style>\n",
       "<table border=\"1\" class=\"dataframe\">\n",
       "  <thead>\n",
       "    <tr style=\"text-align: right;\">\n",
       "      <th></th>\n",
       "      <th>0</th>\n",
       "    </tr>\n",
       "  </thead>\n",
       "  <tbody>\n",
       "    <tr>\n",
       "      <th>80</th>\n",
       "      <td>negative</td>\n",
       "    </tr>\n",
       "    <tr>\n",
       "      <th>81</th>\n",
       "      <td>negative</td>\n",
       "    </tr>\n",
       "    <tr>\n",
       "      <th>82</th>\n",
       "      <td>negative</td>\n",
       "    </tr>\n",
       "    <tr>\n",
       "      <th>83</th>\n",
       "      <td>negative</td>\n",
       "    </tr>\n",
       "    <tr>\n",
       "      <th>84</th>\n",
       "      <td>negative</td>\n",
       "    </tr>\n",
       "    <tr>\n",
       "      <th>85</th>\n",
       "      <td>neutral</td>\n",
       "    </tr>\n",
       "    <tr>\n",
       "      <th>86</th>\n",
       "      <td>negative</td>\n",
       "    </tr>\n",
       "    <tr>\n",
       "      <th>87</th>\n",
       "      <td>neutral</td>\n",
       "    </tr>\n",
       "    <tr>\n",
       "      <th>88</th>\n",
       "      <td>negative</td>\n",
       "    </tr>\n",
       "    <tr>\n",
       "      <th>89</th>\n",
       "      <td>positive</td>\n",
       "    </tr>\n",
       "    <tr>\n",
       "      <th>90</th>\n",
       "      <td>neutral</td>\n",
       "    </tr>\n",
       "    <tr>\n",
       "      <th>91</th>\n",
       "      <td>neutral</td>\n",
       "    </tr>\n",
       "    <tr>\n",
       "      <th>92</th>\n",
       "      <td>neutral</td>\n",
       "    </tr>\n",
       "    <tr>\n",
       "      <th>93</th>\n",
       "      <td>negative</td>\n",
       "    </tr>\n",
       "    <tr>\n",
       "      <th>94</th>\n",
       "      <td>positive</td>\n",
       "    </tr>\n",
       "    <tr>\n",
       "      <th>95</th>\n",
       "      <td>neutral</td>\n",
       "    </tr>\n",
       "    <tr>\n",
       "      <th>96</th>\n",
       "      <td>negative</td>\n",
       "    </tr>\n",
       "    <tr>\n",
       "      <th>97</th>\n",
       "      <td>neutral</td>\n",
       "    </tr>\n",
       "    <tr>\n",
       "      <th>98</th>\n",
       "      <td>negative</td>\n",
       "    </tr>\n",
       "    <tr>\n",
       "      <th>99</th>\n",
       "      <td>negative</td>\n",
       "    </tr>\n",
       "  </tbody>\n",
       "</table>\n",
       "</div>"
      ],
      "text/plain": [
       "           0\n",
       "80  negative\n",
       "81  negative\n",
       "82  negative\n",
       "83  negative\n",
       "84  negative\n",
       "85   neutral\n",
       "86  negative\n",
       "87   neutral\n",
       "88  negative\n",
       "89  positive\n",
       "90   neutral\n",
       "91   neutral\n",
       "92   neutral\n",
       "93  negative\n",
       "94  positive\n",
       "95   neutral\n",
       "96  negative\n",
       "97   neutral\n",
       "98  negative\n",
       "99  negative"
      ]
     },
     "execution_count": 235,
     "metadata": {},
     "output_type": "execute_result"
    }
   ],
   "source": [
    "#y_pred=pd.DataFrame(predictions)\n",
    "y_pred[80:100]"
   ]
  },
  {
   "cell_type": "code",
   "execution_count": 233,
   "metadata": {},
   "outputs": [],
   "source": [
    "classifiers=['decisiontree','multinomialNB','svc','adaBoost','gradientBoost','randomForest','xgbclassifier']"
   ]
  },
  {
   "cell_type": "code",
   "execution_count": null,
   "metadata": {},
   "outputs": [],
   "source": [
    "\n",
    "for classifier in classifiers:\n",
    "    clf=classifier.fit(X_train, y_train)\n",
    "    predictions=clf.predict(X_test)\n",
    "    accuracy_scores.append(accuracy_score(y_test, predictions))"
   ]
  },
  {
   "cell_type": "code",
   "execution_count": 208,
   "metadata": {},
   "outputs": [],
   "source": [
    "accuracy_scores=[]"
   ]
  },
  {
   "cell_type": "code",
   "execution_count": 209,
   "metadata": {},
   "outputs": [
    {
     "name": "stdout",
     "output_type": "stream",
     "text": [
      "[0.8978825136612022]\n"
     ]
    }
   ],
   "source": [
    "clf=DecisionTreeClassifier().fit(X_train, y_train)\n",
    "predictions=clf.predict(X_test)\n",
    "accuracy_scores.append(accuracy_score(y_test, predictions))\n",
    "print(accuracy_scores)"
   ]
  },
  {
   "cell_type": "code",
   "execution_count": 218,
   "metadata": {},
   "outputs": [
    {
     "name": "stdout",
     "output_type": "stream",
     "text": [
      "[0.8978825136612022, 0.7896174863387978, 0.6516393442622951]\n"
     ]
    }
   ],
   "source": [
    "print(accuracy_scores)"
   ]
  },
  {
   "cell_type": "code",
   "execution_count": null,
   "metadata": {},
   "outputs": [],
   "source": []
  },
  {
   "cell_type": "code",
   "execution_count": 213,
   "metadata": {},
   "outputs": [
    {
     "name": "stdout",
     "output_type": "stream",
     "text": [
      "[0.8978825136612022, 0.7896174863387978, 0.7896174863387978]\n"
     ]
    }
   ],
   "source": [
    "clf=MultinomialNB().fit(X_train, y_train)\n",
    "predictions=clf.predict(X_test)\n",
    "accuracy_scores.append(accuracy_score(y_test, predictions))\n",
    "print(accuracy_scores)"
   ]
  },
  {
   "cell_type": "code",
   "execution_count": 216,
   "metadata": {},
   "outputs": [
    {
     "name": "stdout",
     "output_type": "stream",
     "text": [
      "[0.8978825136612022, 0.7896174863387978, 0.6516393442622951]\n"
     ]
    }
   ],
   "source": [
    "clf=SVC(kernel=\"rbf\", C=0.025, probability=True).fit(X_train, y_train)\n",
    "predictions=clf.predict(X_test)\n",
    "accuracy_scores.append(accuracy_score(y_test, predictions))\n",
    "print(accuracy_scores)"
   ]
  },
  {
   "cell_type": "code",
   "execution_count": 219,
   "metadata": {},
   "outputs": [
    {
     "name": "stdout",
     "output_type": "stream",
     "text": [
      "[0.8978825136612022, 0.7896174863387978, 0.6516393442622951, 0.887636612021858]\n"
     ]
    }
   ],
   "source": [
    "clf=AdaBoostClassifier().fit(X_train, y_train)\n",
    "predictions=clf.predict(X_test)\n",
    "accuracy_scores.append(accuracy_score(y_test, predictions))\n",
    "print(accuracy_scores)"
   ]
  },
  {
   "cell_type": "code",
   "execution_count": 220,
   "metadata": {},
   "outputs": [
    {
     "name": "stdout",
     "output_type": "stream",
     "text": [
      "[0.8978825136612022, 0.7896174863387978, 0.6516393442622951, 0.887636612021858, 0.9077868852459017]\n"
     ]
    }
   ],
   "source": [
    "clf=GradientBoostingClassifier(n_estimators=100).fit(X_train, y_train)\n",
    "predictions=clf.predict(X_test)\n",
    "accuracy_scores.append(accuracy_score(y_test, predictions))\n",
    "print(accuracy_scores)"
   ]
  },
  {
   "cell_type": "code",
   "execution_count": 222,
   "metadata": {},
   "outputs": [],
   "source": [
    "accuracy_scores.append(0.9101775956284153)\n",
    "accuracy_scores.append(0.9252049180327869)"
   ]
  },
  {
   "cell_type": "code",
   "execution_count": 234,
   "metadata": {},
   "outputs": [
    {
     "data": {
      "text/plain": [
       "Text(0.5, 1.0, 'Scores of different classifiers')"
      ]
     },
     "execution_count": 234,
     "metadata": {},
     "output_type": "execute_result"
    },
    {
     "data": {
      "image/png": "[encoded data removed]",
      "text/plain": [
       "<Figure size 432x288 with 1 Axes>"
      ]
     },
     "metadata": {
      "needs_background": "light"
     },
     "output_type": "display_data"
    }
   ],
   "source": [
    "index=[1,2,3,4,5,6,7]\n",
    "plt.bar(index,accuracy_scores)\n",
    "plt.xticks(index,classifiers,rotation=45)\n",
    "plt.xlabel(\"classifiers\")\n",
    "plt.ylabel(\"Acurracy_scores\")\n",
    "plt.title(\"Scores of different classifiers\")"
   ]
  },
  {
   "cell_type": "code",
   "execution_count": null,
   "metadata": {},
   "outputs": [],
   "source": []
  },
  {
   "cell_type": "code",
   "execution_count": null,
   "metadata": {},
   "outputs": [],
   "source": []
  },
  {
   "cell_type": "code",
   "execution_count": null,
   "metadata": {},
   "outputs": [],
   "source": []
  }
 ],
 "metadata": {
  "kernelspec": {
   "display_name": "Python 3",
   "language": "python",
   "name": "python3"
  },
  "language_info": {
   "codemirror_mode": {
    "name": "ipython",
    "version": 3
   },
   "file_extension": ".py",
   "mimetype": "text/x-python",
   "name": "python",
   "nbconvert_exporter": "python",
   "pygments_lexer": "ipython3",
   "version": "3.7.6"
  }
 },
 "nbformat": 4,
 "nbformat_minor": 4
}
